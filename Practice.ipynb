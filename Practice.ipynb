{
 "cells": [
  {
   "cell_type": "code",
   "execution_count": 1,
   "metadata": {
    "collapsed": true
   },
   "outputs": [],
   "source": [
    "class ListNode:\n",
    "    def __init__(self, value):\n",
    "        self.next = None\n",
    "        self.val = value"
   ]
  },
  {
   "cell_type": "code",
   "execution_count": 3,
   "metadata": {
    "collapsed": true
   },
   "outputs": [],
   "source": [
    "class Queue:\n",
    "    ''' enqueue, dequeue'''\n",
    "    def __init__(self):\n",
    "        self.head = None\n",
    "        self.tail = None\n",
    "        self.size = 0\n",
    "        \n",
    "    def enqueue(self, value): # 裝在尾巴\n",
    "        q = ListNode(value)\n",
    "        if self.size == 0:\n",
    "            self.head = q\n",
    "            self.tail = q\n",
    "        else:\n",
    "            self.tail.next = q\n",
    "            self.tail = q\n",
    "        self.size += 1\n",
    "        \n",
    "    def dequeue(self):  # remove head\n",
    "        if self.size == 0:\n",
    "            return None\n",
    "        else:\n",
    "            removed = self.head\n",
    "            self.head = self.head.next\n",
    "            self.size -= 1\n",
    "            return removed\n",
    "            \n",
    "        \n",
    "        "
   ]
  },
  {
   "cell_type": "code",
   "execution_count": 4,
   "metadata": {
    "collapsed": true
   },
   "outputs": [],
   "source": [
    "class Stack:\n",
    "    ''' push, pop'''\n",
    "    def __init__(self):\n",
    "        self.head = None\n",
    "        self.size = 0\n",
    "        \n",
    "    def push(self, value):\n",
    "        s = ListNode(value)\n",
    "        if self.size == 0:\n",
    "            self.head = s\n",
    "        else:\n",
    "            q.next = self.head\n",
    "            self.head = s\n",
    "        self.size += 1\n",
    "        \n",
    "    def pop(self):\n",
    "        if self.size == 0:\n",
    "            return None\n",
    "        else:\n",
    "            removed = self.head\n",
    "            self.head = self.head.next\n",
    "            self.size -= 1\n",
    "            return removed\n",
    "        "
   ]
  },
  {
   "cell_type": "code",
   "execution_count": 3,
   "metadata": {},
   "outputs": [
    {
     "name": "stdout",
     "output_type": "stream",
     "text": [
      "a =  [1, 1, 1, 0, 0, 0, 0, 0, 0, 0, 0, 0, 0, 0, 0, 0, 0, 0, 0, 0, 0, 0, 0, 0, 0, 0]\n",
      "b =  [1, 1, 1, 0, 0, 0, 0, 0, 0, 0, 0, 0, 0, 0, 0, 0, 0, 0, 0, 0, 0, 0, 0, 0, 0, 0]\n",
      "[0, 6]\n"
     ]
    }
   ],
   "source": [
    "\n",
    "def findAnagrams( s, p):\n",
    "    \"\"\"\n",
    "    :type s: str\n",
    "    :type p: str\n",
    "    :rtype: List[int]\n",
    "    \"\"\"\n",
    "    a=[0]*26\n",
    "    b=[0]*26\n",
    "    res=[]\n",
    "    if len(s)<len(p):\n",
    "        return res\n",
    "    for i in range(0,len(p)):\n",
    "        a[ord(p[i])-ord('a')]+=1\n",
    "        b[ord(s[i])-ord('a')]+=1\n",
    "    print('a = ', a)\n",
    "    print('b = ', b)\n",
    "    if a==b:\n",
    "        res.append(0)\n",
    "    for j in range(1,len(s)):\n",
    "        if j+len(p)>len(s):\n",
    "            break\n",
    "        b[ord(s[j-1])-ord('a')]-=1\n",
    "        b[ord(s[j+len(p)-1])-ord('a')]+=1\n",
    "        if a==b:\n",
    "            res.append(j)\n",
    "    return res\n",
    "\n",
    "s =\"cbaebabacd\"\n",
    "p = \"abc\"\n",
    "print(findAnagrams(s,p))"
   ]
  },
  {
   "cell_type": "code",
   "execution_count": null,
   "metadata": {
    "collapsed": true
   },
   "outputs": [],
   "source": []
  }
 ],
 "metadata": {
  "kernelspec": {
   "display_name": "Python [conda env:py37]",
   "language": "python",
   "name": "conda-env-py37-py"
  },
  "language_info": {
   "codemirror_mode": {
    "name": "ipython",
    "version": 3
   },
   "file_extension": ".py",
   "mimetype": "text/x-python",
   "name": "python",
   "nbconvert_exporter": "python",
   "pygments_lexer": "ipython3",
   "version": "3.7.1"
  }
 },
 "nbformat": 4,
 "nbformat_minor": 2
}
