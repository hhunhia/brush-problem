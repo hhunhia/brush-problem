{
 "cells": [
  {
   "cell_type": "markdown",
   "metadata": {},
   "source": [
    "### Python 習慣寫法："
   ]
  },
  {
   "cell_type": "markdown",
   "metadata": {},
   "source": [
    "module_name, package_name\n",
    "ClassName, ExceptionName\n",
    "method_name, function_name, global_var_name, instance_var_name, function_parameter_name, local_var_name\n",
    "GLOBAL_CONSTANT_NAME"
   ]
  },
  {
   "cell_type": "code",
   "execution_count": 1,
   "metadata": {
    "collapsed": true
   },
   "outputs": [],
   "source": [
    "class ListNode:\n",
    "    def __init__(self, value):\n",
    "        self.next = None\n",
    "        self.val = value\n",
    "class Stack:\n",
    "    def __init__(self):\n",
    "        self.head = None\n",
    "        self.size = 0\n",
    "    def push(self, value):\n",
    "        s = ListNode(value)\n",
    "        if self.head == None:\n",
    "            self.head = s\n",
    "        else:\n",
    "            s.next = self.head\n",
    "            self.head = s\n",
    "        self.size += 1\n",
    "    def pop(self):\n",
    "        if self.head == None:\n",
    "            return None\n",
    "        else:\n",
    "            node = self.head\n",
    "            self.head = self.head.next\n",
    "            self.size -= 1\n",
    "            return node\n"
   ]
  },
  {
   "cell_type": "markdown",
   "metadata": {},
   "source": [
    "Stack: Q:逆波蘭表達式計算: a*(b+c)->abc+*\n",
    "\n",
    "Evaluate Reverse Polish Notation\n",
    "Evaluate the value of an arithmetic expression in Reverse Polish Notation.\n",
    "\n",
    "Valid operators are +, -, *, /. Each operand may be an integer or another expression.\n",
    "\n",
    "Some examples:\n",
    "\n",
    "*  \"2\", \"1\", \"+\", \"3\", \"*\" -> ((2 + 1) * 3) -> 9\n",
    "*  \"4\", \"13\", \"5\", \"/\", \"+\" -> (4 + (13 / 5)) -> 6\n",
    "\n",
    "思路\n",
    "逆波兰表达式的计算十分方便，对于运算符，其运算的两个数就是这个运算符前面的两个数。所以我们只要用一个栈，每次遇到数字就压入栈内，每次遇到运算符就弹出两个数，计算后再压回栈内，最后栈内剩下的那个数就是计算结果了。\n",
    "对于减法，先弹出的是减号后面的数。对于除法，先弹出的是除号后面的数。"
   ]
  },
  {
   "cell_type": "code",
   "execution_count": 2,
   "metadata": {},
   "outputs": [
    {
     "ename": "TypeError",
     "evalue": "unsupported operand type(s) for +: 'instance' and 'instance'",
     "output_type": "error",
     "traceback": [
      "\u001b[0;31m---------------------------------------------------------------------------\u001b[0m",
      "\u001b[0;31mTypeError\u001b[0m                                 Traceback (most recent call last)",
      "\u001b[0;32m<ipython-input-2-a8e6dcfe5f3c>\u001b[0m in \u001b[0;36m<module>\u001b[0;34m()\u001b[0m\n\u001b[1;32m     18\u001b[0m     \u001b[0;32mreturn\u001b[0m \u001b[0mnum_stack\u001b[0m\u001b[0;34m.\u001b[0m\u001b[0mpop\u001b[0m\u001b[0;34m(\u001b[0m\u001b[0;34m)\u001b[0m\u001b[0;34m\u001b[0m\u001b[0m\n\u001b[1;32m     19\u001b[0m \u001b[0;34m\u001b[0m\u001b[0m\n\u001b[0;32m---> 20\u001b[0;31m \u001b[0;32mprint\u001b[0m \u001b[0mcal_rev_polish\u001b[0m\u001b[0;34m(\u001b[0m\u001b[0;34m[\u001b[0m\u001b[0;36m1\u001b[0m\u001b[0;34m,\u001b[0m\u001b[0;36m2\u001b[0m\u001b[0;34m,\u001b[0m\u001b[0;36m3\u001b[0m\u001b[0;34m,\u001b[0m\u001b[0;34m\"+\"\u001b[0m\u001b[0;34m,\u001b[0m\u001b[0;34m\"-\"\u001b[0m\u001b[0;34m]\u001b[0m\u001b[0;34m)\u001b[0m\u001b[0;34m\u001b[0m\u001b[0m\n\u001b[0m",
      "\u001b[0;32m<ipython-input-2-a8e6dcfe5f3c>\u001b[0m in \u001b[0;36mcal_rev_polish\u001b[0;34m(alist)\u001b[0m\n\u001b[1;32m     15\u001b[0m             \u001b[0mright\u001b[0m \u001b[0;34m=\u001b[0m \u001b[0mnum_stack\u001b[0m\u001b[0;34m.\u001b[0m\u001b[0mpop\u001b[0m\u001b[0;34m(\u001b[0m\u001b[0;34m)\u001b[0m\u001b[0;34m\u001b[0m\u001b[0m\n\u001b[1;32m     16\u001b[0m             \u001b[0mleft\u001b[0m \u001b[0;34m=\u001b[0m \u001b[0mnum_stack\u001b[0m\u001b[0;34m.\u001b[0m\u001b[0mpop\u001b[0m\u001b[0;34m(\u001b[0m\u001b[0;34m)\u001b[0m\u001b[0;34m\u001b[0m\u001b[0m\n\u001b[0;32m---> 17\u001b[0;31m             \u001b[0mnum_stack\u001b[0m\u001b[0;34m.\u001b[0m\u001b[0mpush\u001b[0m\u001b[0;34m(\u001b[0m\u001b[0mGLOBAL_OPERATE\u001b[0m\u001b[0;34m[\u001b[0m\u001b[0mx\u001b[0m\u001b[0;34m]\u001b[0m\u001b[0;34m(\u001b[0m\u001b[0mleft\u001b[0m\u001b[0;34m,\u001b[0m \u001b[0mright\u001b[0m\u001b[0;34m)\u001b[0m\u001b[0;34m)\u001b[0m\u001b[0;34m\u001b[0m\u001b[0m\n\u001b[0m\u001b[1;32m     18\u001b[0m     \u001b[0;32mreturn\u001b[0m \u001b[0mnum_stack\u001b[0m\u001b[0;34m.\u001b[0m\u001b[0mpop\u001b[0m\u001b[0;34m(\u001b[0m\u001b[0;34m)\u001b[0m\u001b[0;34m\u001b[0m\u001b[0m\n\u001b[1;32m     19\u001b[0m \u001b[0;34m\u001b[0m\u001b[0m\n",
      "\u001b[0;31mTypeError\u001b[0m: unsupported operand type(s) for +: 'instance' and 'instance'"
     ]
    }
   ],
   "source": [
    "import operator\n",
    "GLOBAL_OPERATE = {\n",
    "    '+': operator.add,\n",
    "    '-': operator.sub,\n",
    "    '*': operator.mul,\n",
    "    '/': operator.div\n",
    "}\n",
    "\n",
    "def cal_rev_polish(alist):\n",
    "    num_stack = Stack()\n",
    "    for x in alist:\n",
    "        if x not in GLOBAL_OPERATE.keys():\n",
    "            num_stack.push(x)\n",
    "        else:\n",
    "            right = num_stack.pop()\n",
    "            left = num_stack.pop()\n",
    "            num_stack.push(GLOBAL_OPERATE[x](left, right))\n",
    "    return num_stack.pop()\n",
    "\n",
    "print cal_rev_polish([1,2,3,\"+\",\"-\"])"
   ]
  },
  {
   "cell_type": "code",
   "execution_count": 6,
   "metadata": {},
   "outputs": [
    {
     "name": "stdout",
     "output_type": "stream",
     "text": [
      "Help on built-in function div in module operator:\n",
      "\n",
      "div(...)\n",
      "    div(a, b) -- Same as a / b when __future__.division is not in effect.\n",
      "\n"
     ]
    }
   ],
   "source": [
    "help(operator.div)"
   ]
  },
  {
   "cell_type": "markdown",
   "metadata": {},
   "source": [
    "* Find mid node in a linked list:"
   ]
  },
  {
   "cell_type": "code",
   "execution_count": 3,
   "metadata": {
    "collapsed": true
   },
   "outputs": [],
   "source": [
    "class ListNode:\n",
    "    def __init__(self, value):\n",
    "        self.next = None\n",
    "        self.val = value\n",
    "# linkedlist example\n",
    "def linkedlist_Case(lis):\n",
    "    head = ListNode(lis[0])\n",
    "    pre = head\n",
    "    for i in range(1,len(lis)):\n",
    "        Node = ListNode(lis[i])\n",
    "        pre.next = Node\n",
    "        pre = Node\n",
    "    return head"
   ]
  },
  {
   "cell_type": "code",
   "execution_count": 9,
   "metadata": {},
   "outputs": [
    {
     "name": "stdout",
     "output_type": "stream",
     "text": [
      "3\n",
      "2\n",
      "3\n",
      "4\n"
     ]
    }
   ],
   "source": [
    "def find_mid_node(head):\n",
    "    fast = slow = head\n",
    "    while fast.next != None and fast.next.next != None:\n",
    "        fast = fast.next.next\n",
    "        slow = slow.next\n",
    "    return slow\n",
    "\n",
    "h1 = linkedlist_Case([1,2,3,4,5])\n",
    "print(find_mid_node(h1).val)\n",
    "        \n",
    "h1 = linkedlist_Case([1,2,3])\n",
    "print(find_mid_node(h1).val)\n",
    "\n",
    "h1 = linkedlist_Case([1,2,3,4,5,6])\n",
    "print(find_mid_node(h1).val)\n",
    "    \n",
    "h1 = linkedlist_Case([1,2,3,4,5, 6, 7])\n",
    "print(find_mid_node(h1).val)\n",
    "\n",
    "    "
   ]
  },
  {
   "cell_type": "markdown",
   "metadata": {},
   "source": [
    "* Given a singly linked list, determine if it is a palindrome.\n",
    "  Follow up: \n",
    "  Could you do it in O(n) time and O(1) space?\n",
    "  https://blog.csdn.net/coder_orz/article/details/51306985\n",
    "\n",
    "    1. a->b->b->a\n",
    "    \n",
    "    2. a->b->c->b->a"
   ]
  },
  {
   "cell_type": "code",
   "execution_count": 24,
   "metadata": {},
   "outputs": [
    {
     "name": "stdout",
     "output_type": "stream",
     "text": [
      "True\n"
     ]
    }
   ],
   "source": [
    "''' 存一半的數值（倒過來），然後再比較後一半的數值, time:O(n), Space: O(n/2)=O(n)'''\n",
    "def isPalindrome(head):\n",
    "    if not head or not head.next:\n",
    "        return True\n",
    "    new_list = []\n",
    "    slow = fast = head\n",
    "    while fast and fast.next:\n",
    "        new_list.insert(0, slow.val)\n",
    "        slow = slow.next\n",
    "        fast = fast.next.next\n",
    "#         print(new_list)\n",
    "#         print(\"slow\", slow.val, \"fast:\", fast.val)\n",
    "    \n",
    "    if fast:  # Odd number\n",
    "        slow = slow.next\n",
    "        \n",
    "    for val in new_list:\n",
    "        if val != slow.val:\n",
    "            return False\n",
    "        slow = slow.next\n",
    "    return True\n",
    "h1 = linkedlist_Case([1,2,3,3,2,1])\n",
    "print(isPalindrome(h1))\n"
   ]
  },
  {
   "cell_type": "code",
   "execution_count": null,
   "metadata": {
    "collapsed": true
   },
   "outputs": [],
   "source": []
  },
  {
   "cell_type": "code",
   "execution_count": 27,
   "metadata": {},
   "outputs": [
    {
     "data": {
      "text/plain": [
       "'\\nh1 = linkedlist_Case([1,2,3,2,1])\\nglobal_node = h1\\n\\ndef is_pal(node):\\n    if node.next == None:\\n        return global_node.val == node.val\\n    if is_pal(node.next) is True:\\n        global_node = global_node.next\\n    else:\\n        return False\\n    return True\\nis_pal(global_node)\\n'"
      ]
     },
     "execution_count": 27,
     "metadata": {},
     "output_type": "execute_result"
    }
   ],
   "source": [
    "# 課堂上的，貌似有問題\n",
    "\n",
    "'''\n",
    "h1 = linkedlist_Case([1,2,3,2,1])\n",
    "global_node = h1\n",
    "\n",
    "def is_pal(node):\n",
    "    if node.next == None:\n",
    "        return global_node.val == node.val\n",
    "    if is_pal(node.next) is True:\n",
    "        global_node = global_node.next\n",
    "    else:\n",
    "        return False\n",
    "    return True\n",
    "is_pal(global_node)\n",
    "'''"
   ]
  },
  {
   "cell_type": "code",
   "execution_count": null,
   "metadata": {
    "collapsed": true
   },
   "outputs": [],
   "source": [
    "class MinHeap:\n",
    "    def __init__(self):\n",
    "        self.size = 0\n",
    "        self.arr = []\n",
    "        \n",
    "    def push(self, value):\n",
    "        self.arr.append(value)\n",
    "        self.size += 1\n",
    "        self.percolate_up(size-1)\n",
    "        "
   ]
  },
  {
   "cell_type": "markdown",
   "metadata": {},
   "source": [
    "* Find the k-th largest/smallest number in an array"
   ]
  },
  {
   "cell_type": "code",
   "execution_count": 31,
   "metadata": {},
   "outputs": [
    {
     "name": "stdout",
     "output_type": "stream",
     "text": [
      "[1, 2, 3, 4, 6, 8, 2, 10, 20, 23]\n",
      "6\n"
     ]
    }
   ],
   "source": [
    "import heapq\n",
    "array1 = [1,2,3,4,6,8,2,10,20,23,24,3,11,21,24,25]\n",
    "def kthLargest(array, k):\n",
    "    minheap = array[0:k]\n",
    "    print(minheap)\n",
    "    for i in range(k, len(array)):\n",
    "        if array[i] > minheap[0]:\n",
    "            heapq.heappop(minheap)\n",
    "            heapq.heappush(minheap, array[i])\n",
    "    return minheap[0]\n",
    "print(kthLargest(array1,10))"
   ]
  },
  {
   "cell_type": "code",
   "execution_count": null,
   "metadata": {
    "collapsed": true
   },
   "outputs": [],
   "source": []
  }
 ],
 "metadata": {
  "kernelspec": {
   "display_name": "Python 2",
   "language": "python",
   "name": "python2"
  },
  "language_info": {
   "codemirror_mode": {
    "name": "ipython",
    "version": 2
   },
   "file_extension": ".py",
   "mimetype": "text/x-python",
   "name": "python",
   "nbconvert_exporter": "python",
   "pygments_lexer": "ipython2",
   "version": "2.7.6"
  }
 },
 "nbformat": 4,
 "nbformat_minor": 2
}
