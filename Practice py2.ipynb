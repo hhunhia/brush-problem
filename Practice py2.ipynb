{
 "cells": [
  {
   "cell_type": "code",
   "execution_count": 2,
   "metadata": {},
   "outputs": [
    {
     "data": {
      "text/plain": [
       "1951.8900000000003"
      ]
     },
     "execution_count": 2,
     "metadata": {},
     "output_type": "execute_result"
    }
   ],
   "source": [
    "26.4+168.85+16.49*2+148.3+150.18+54.1+142.67+202+21.83+12.38+71.54+75+93+13.07+23.18+66+48.80+53.92+68.62+45.13+57+154.61+3.5+5.5+26+12+22.33+46+18+37.3+21.7+30"
   ]
  },
  {
   "cell_type": "code",
   "execution_count": 1,
   "metadata": {
    "collapsed": true
   },
   "outputs": [],
   "source": [
    "class ListNode:\n",
    "    def __init__(self, value):\n",
    "        self.next = None\n",
    "        self.val = value\n",
    "class Stack:\n",
    "    def __init__(self):\n",
    "        self.head = None\n",
    "        self.size = 0\n",
    "    def push(self, value):\n",
    "        s = ListNode(value)\n",
    "        if self.head == None:\n",
    "            self.head = s\n",
    "        else:\n",
    "            s.next = self.head\n",
    "            self.head = s\n",
    "        self.size += 1\n",
    "    def pop(self):\n",
    "        if self.head == None:\n",
    "            return None\n",
    "        else:\n",
    "            val = self.head.val\n",
    "            self.head = self.head.next\n",
    "            self.size -= 1\n",
    "            return val"
   ]
  },
  {
   "cell_type": "code",
   "execution_count": 5,
   "metadata": {},
   "outputs": [
    {
     "name": "stdout",
     "output_type": "stream",
     "text": [
      "[17, 20, 26, 31, 44, 52, 55, 77, 93]\n"
     ]
    }
   ],
   "source": [
    "# merge sort\n",
    "\n",
    "def mergesort(array):\n",
    "    # base case\n",
    "    if len(array) ==1:\n",
    "        return array\n",
    "    \n",
    "    # split\n",
    "    lefthalf = array[:len(array)//2]\n",
    "    righthalf = array[len(array)//2:]\n",
    "    \n",
    "    mergesort(lefthalf)\n",
    "    mergesort(righthalf)\n",
    "    \n",
    "    # merge\n",
    "    i, j, k = 0, 0, 0  # index of left, right, and merge arraies\n",
    "    \n",
    "    while i < len(lefthalf) and j < len(righthalf):\n",
    "        if lefthalf[i] < righthalf[j]:\n",
    "            array[k] = lefthalf[i]\n",
    "            i += 1\n",
    "        else:\n",
    "            array[k] = righthalf[j]\n",
    "            j += 1\n",
    "        k += 1\n",
    "            \n",
    "    if i == len(lefthalf):\n",
    "        while j < len(righthalf):\n",
    "            array[k] = righthalf[j]\n",
    "            j += 1\n",
    "            k += 1\n",
    "    if j == len(righthalf):\n",
    "        while i < len(lefthalf):\n",
    "            array[k] = lefthalf[i]\n",
    "            i += 1\n",
    "            k += 1\n",
    "    return array\n",
    "    \n",
    "\n",
    "array = [52, 26, 93, 17, 77, 31, 44, 55, 20]\n",
    "mergesort(array)\n",
    "print(array)\n",
    "\n",
    "\n"
   ]
  },
  {
   "cell_type": "code",
   "execution_count": null,
   "metadata": {
    "collapsed": true
   },
   "outputs": [],
   "source": [
    "# quick sort\n",
    "\n",
    "def quick_sort(array, low, high):\n",
    "    if low < high:\n",
    "        pi = partition(array, low, high)\n",
    "        quickSort(array, low, pi-1)\n",
    "        quickSort(array, pi+1, high)\n",
    "        \n",
    "def \n"
   ]
  },
  {
   "cell_type": "code",
   "execution_count": null,
   "metadata": {
    "collapsed": true
   },
   "outputs": [],
   "source": []
  },
  {
   "cell_type": "code",
   "execution_count": null,
   "metadata": {
    "collapsed": true
   },
   "outputs": [],
   "source": []
  },
  {
   "cell_type": "code",
   "execution_count": null,
   "metadata": {
    "collapsed": true
   },
   "outputs": [],
   "source": []
  },
  {
   "cell_type": "code",
   "execution_count": null,
   "metadata": {
    "collapsed": true
   },
   "outputs": [],
   "source": []
  }
 ],
 "metadata": {
  "kernelspec": {
   "display_name": "Python 2",
   "language": "python",
   "name": "python2"
  },
  "language_info": {
   "codemirror_mode": {
    "name": "ipython",
    "version": 2
   },
   "file_extension": ".py",
   "mimetype": "text/x-python",
   "name": "python",
   "nbconvert_exporter": "python",
   "pygments_lexer": "ipython2",
   "version": "2.7.6"
  }
 },
 "nbformat": 4,
 "nbformat_minor": 2
}
