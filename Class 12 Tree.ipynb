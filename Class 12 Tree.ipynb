{
 "cells": [
  {
   "cell_type": "code",
   "execution_count": 2,
   "metadata": {
    "collapsed": true
   },
   "outputs": [],
   "source": [
    "class TreeNode:\n",
    "    def __init__(self, x):\n",
    "        self.val = x\n",
    "        self.left = None\n",
    "        self.right = None\n",
    "\n",
    "''' Tree Case for using'''\n",
    "def TreeCase():\n",
    "    tree = TreeNode(10)\n",
    "    tree.left = TreeNode(5)\n",
    "    tree.right = TreeNode(15)\n",
    "    tree.left.left = TreeNode(2)\n",
    "    tree.left.right = TreeNode(7)\n",
    "    tree.right.left = TreeNode(12)\n",
    "    tree.right.right = TreeNode(20)\n",
    "    return tree\n",
    "\n"
   ]
  },
  {
   "cell_type": "markdown",
   "metadata": {},
   "source": [
    "         10                              \n",
    "        /  \\                      \n",
    "       5   15                     \n",
    "      / \\  / \\                       \n",
    "     2  7 12  20                     \n"
   ]
  },
  {
   "cell_type": "code",
   "execution_count": 38,
   "metadata": {
    "collapsed": true
   },
   "outputs": [],
   "source": [
    "def TreeCase2():\n",
    "    ''' BST\n",
    "              20\n",
    "          /       \\\n",
    "        9           25\n",
    "      /   \\       /     \\\n",
    "    7     12     24      27\n",
    "  /  \\    / \\    / \\     /  \\\n",
    " 6   8   11  13 23 24.5  26  29\n",
    "    \n",
    "    \n",
    "    '''\n",
    "    root = TreeNode(20)\n",
    "    \n",
    "    # level 1\n",
    "    root.left = TreeNode(9)\n",
    "    root.right = TreeNode(25)\n",
    "    \n",
    "    # level 2\n",
    "    root.left.left = TreeNode(7)\n",
    "    root.left.right = TreeNode(12)\n",
    "    root.right.left = TreeNode(24)\n",
    "    root.right.right = TreeNode(27)\n",
    "    \n",
    "    # level 3\n",
    "    root.left.left.left = TreeNode(6)\n",
    "    root.left.left.right = TreeNode(8)\n",
    "    root.left.right.left = TreeNode(11)\n",
    "    root.left.right.right = TreeNode(13)\n",
    "    root.right.left.left = TreeNode(23)\n",
    "    root.right.left.right = TreeNode(24.5)\n",
    "    root.right.right.left = TreeNode(26)\n",
    "    root.right.right.right = TreeNode(29)\n",
    "    \n",
    "    return root"
   ]
  },
  {
   "cell_type": "code",
   "execution_count": 3,
   "metadata": {},
   "outputs": [
    {
     "data": {
      "text/plain": [
       "[10, 5, 2, 7, 15, 12, 20]"
      ]
     },
     "execution_count": 3,
     "metadata": {},
     "output_type": "execute_result"
    }
   ],
   "source": [
    "'''Q1: tree traverse pre-order'''\n",
    "def pre_order(root):\n",
    "    res = []\n",
    "    helper(root, res)\n",
    "    return res\n",
    "\n",
    "def helper(root, res):\n",
    "    if not root:\n",
    "        return\n",
    "    res.append(root.val)\n",
    "    helper(root.left, res)\n",
    "    helper(root.right, res)\n",
    "    \n",
    "root = TreeCase()\n",
    "pre_order(root)\n",
    "\n",
    "# Time complexity: O(n), SC: O(n)"
   ]
  },
  {
   "cell_type": "markdown",
   "metadata": {},
   "source": [
    "Q2: \n",
    "* What is balanced tree? \n",
    "* What is completed tree?\n",
    "* What is binary searched tree? \n"
   ]
  },
  {
   "cell_type": "markdown",
   "metadata": {},
   "source": [
    "Ans: \n",
    "\n",
    "* a binary tree in which the depth of the left and right subtrees of every node differ by 1 or less.\n",
    "* a binary tree in which every level, except possibly the last, is completely filled, and all nodes are as far left as possible. 除了最後一階層之外的階層都必須填滿，而最後一階層的節點必須由左至右填入。\n",
    "* for every single node in the tree, the values in its left subtree are all smaller than its value, and the values in its right subtree are all larger than its value."
   ]
  },
  {
   "cell_type": "code",
   "execution_count": 4,
   "metadata": {},
   "outputs": [
    {
     "data": {
      "text/plain": [
       "7"
      ]
     },
     "execution_count": 4,
     "metadata": {},
     "output_type": "execute_result"
    }
   ],
   "source": [
    "'''Ex1: 統計tree 裡邊有多少個node?'''\n",
    "root = TreeCase()\n",
    "\n",
    "def HowMany_node(root):\n",
    "    if not root:\n",
    "        return 0\n",
    "    return 1+HowMany_node(root.left)+HowMany_node(root.right)\n",
    "\n",
    "HowMany_node(root)\n"
   ]
  },
  {
   "cell_type": "code",
   "execution_count": 5,
   "metadata": {},
   "outputs": [
    {
     "data": {
      "text/plain": [
       "3"
      ]
     },
     "execution_count": 5,
     "metadata": {},
     "output_type": "execute_result"
    }
   ],
   "source": [
    "''' Q3: GetHeight '''\n",
    "\n",
    "def GetHeight(root):\n",
    "    if not root:\n",
    "        return 0\n",
    "    return 1+max(GetHeight(root.left), GetHeight(root.right))\n",
    "\n",
    "GetHeight(root)\n",
    "\n",
    "# TC: O(n)"
   ]
  },
  {
   "cell_type": "code",
   "execution_count": 6,
   "metadata": {
    "collapsed": true
   },
   "outputs": [],
   "source": [
    "''' Q4: Whether balanced tree or not? '''\n",
    "\n",
    "def is_balanced_tree(root):\n",
    "    if not root:\n",
    "        return True\n",
    "\n",
    "    left = GetHeight(root.left)\n",
    "    right = GetHeight(root.right)\n",
    "    if abs(left-right)>1:\n",
    "        return False\n",
    "\n",
    "    return is_balanced_tree(root.left) and is_balanced_tree(root.right)"
   ]
  },
  {
   "cell_type": "markdown",
   "metadata": {},
   "source": [
    "* Q5: how to judge whether the tree is symmetric?\n",
    "                                 10\n",
    "                                /  \\\n",
    "                              15    15       \n",
    "                             /  \\  / \\\n",
    "                            2   7  7  2\n",
    "\n"
   ]
  },
  {
   "cell_type": "code",
   "execution_count": 7,
   "metadata": {},
   "outputs": [
    {
     "name": "stdout",
     "output_type": "stream",
     "text": [
      "True\n",
      "False\n"
     ]
    }
   ],
   "source": [
    "'''Q5: how to judge whether the tree is symmetric?'''\n",
    "tree = TreeNode(10)\n",
    "tree.left = TreeNode(15)\n",
    "tree.right = TreeNode(15)\n",
    "tree.left.left = TreeNode(2)\n",
    "tree.left.right = TreeNode(7)\n",
    "tree.right.left = TreeNode(7)\n",
    "tree.right.right = TreeNode(2)\n",
    "\n",
    "root = TreeCase()\n",
    "\n",
    "def isSymmetric(root1, root2):\n",
    "    if not root1 and not root2:\n",
    "        return True\n",
    "    if not root1 or not root2:\n",
    "        return False\n",
    "    if root1.val != root2.val:\n",
    "        return False\n",
    "    return isSymmetric(root1.right, root2.left) and isSymmetric(root1.left, root2.right) \n",
    "    \n",
    "print(isSymmetric(tree.left, tree.right))\n",
    "print(isSymmetric(root.left, root.right))\n",
    "    \n",
    "\n"
   ]
  },
  {
   "cell_type": "markdown",
   "metadata": {},
   "source": [
    "* Q6: Lets assume if we tweak the lchild with rchild of an arbitary node in a binary tree,\n",
    "then the \"structure\" of the tree are not changed. Then how can we determine \n",
    "whether two binary trees' structrues are identical\n",
    "\n",
    "### 检查两棵二叉树是否在经过若干次扭转后可以等价。扭转的定义是，交换任意节点的左右子树。等价的定义是，两棵二叉树必须为相同的结构，并且对应位置上的节点的值要相等。\n",
    "\n",
    "         10                               10\n",
    "        /  \\                             /  \\\n",
    "       5   15         ==>               15    5       \n",
    "      / \\  / \\                         /  \\  / \\\n",
    "     2  7 12  20                      12  20 2  7\n",
    "\n",
    "                      or             10\n",
    "                                    /  \\\n",
    "                                  15    5       \n",
    "                                 /  \\  / \\\n",
    "                                20  12 7  2\n",
    "\n",
    "\n",
    "* https://github.com/awangdev/LintCode/blob/master/Java/Tweaked%20Identical%20Binary%20Tree.java"
   ]
  },
  {
   "cell_type": "code",
   "execution_count": 8,
   "metadata": {},
   "outputs": [
    {
     "name": "stdout",
     "output_type": "stream",
     "text": [
      "True\n"
     ]
    }
   ],
   "source": [
    "# transfered tree\n",
    "tree = TreeNode(10)\n",
    "tree.left = TreeNode(15)\n",
    "tree.right = TreeNode(5)\n",
    "tree.left.left = TreeNode(20)\n",
    "tree.left.right = TreeNode(12)\n",
    "tree.right.left = TreeNode(7)\n",
    "tree.right.right = TreeNode(2)\n",
    "\n",
    "root = TreeCase()  # original tree\n",
    "\n",
    "def isTweak(root1, root2):\n",
    "    if not root1 and not root2:\n",
    "        return True\n",
    "    if not root1 or not root2:\n",
    "        return False\n",
    "    if root1.val != root2.val:\n",
    "        return False\n",
    "    return (isTweak(root1.left, root2.left) and isTweak(root1.right, root2.right)) or (isTweak(root1.left, root2.right) and isTweak(root1.right, root2.left))\n",
    "\n",
    "print(isTweak(root, tree))\n",
    "\n",
    "'''also can use'''\n",
    "def isTweak(root1, root2):\n",
    "    if not root1 and not root2:\n",
    "        return True\n",
    "    if not root1 or not root2:\n",
    "        return False\n",
    "    if root1.val == root2.val:\n",
    "        return (isTweak(root1.left, root2.left) and isTweak(root1.right, root2.right)) or (isTweak(root1.left, root2.right) and isTweak(root1.right, root2.left))\n"
   ]
  },
  {
   "cell_type": "markdown",
   "metadata": {},
   "source": [
    "* For the recursion tree, there are log_2(n) levels.\n",
    "* For balanced binary tree with h level, how many nodes are there? O(2^h)\n",
    "* For balanced quatra tree with h level, how many nodes are there? O(4^h)\n",
    "* Since we have log_2(n) level, then we have O(4^(log_2(n)) nodes in the recursion tree with 4 branches.\n",
    "  O(4^(log_2(n))) = O(2^ (2log_2(n))) = O(2^(log_2(n^2))) = O(n^2)"
   ]
  },
  {
   "cell_type": "markdown",
   "metadata": {},
   "source": [
    "## Binary Search Tree\n",
    "* How to determine a binary tree is a BST?\n",
    "https://www.geeksforgeeks.org/a-program-to-check-if-a-binary-tree-is-bst-or-not/\n",
    "\n",
    "Remeber: We cannot only check the left and right for each node since the definition is for all left subtree nodes less than the parent node and for all right subtree nodes greater than the parent node."
   ]
  },
  {
   "cell_type": "code",
   "execution_count": 29,
   "metadata": {},
   "outputs": [
    {
     "name": "stdout",
     "output_type": "stream",
     "text": [
      "(2, 20)\n"
     ]
    }
   ],
   "source": [
    "''' method1: check whole subtree'''\n",
    "def check_subtree(root, Min, Max):\n",
    "    if root == None:\n",
    "        return (Min, Max)\n",
    "    if root.val < Min:\n",
    "        Min = root.val\n",
    "    if root.val > Max:\n",
    "        Max = root.val\n",
    "    (Lmin, Lmax) = check_subtree(root.left, Min, Max)\n",
    "    (Rmin, Rmax) = check_subtree(root.right, Min, Max)\n",
    "    if Lmin < Rmin:\n",
    "        Min = Lmin\n",
    "    else:\n",
    "        Min = Rmin\n",
    "        \n",
    "    if Lmax > Rmax:\n",
    "        Max = Lmax\n",
    "    else:\n",
    "        Max = Rmax\n",
    "    return (Min, Max)\n",
    "\n",
    "    \n",
    "tree = TreeNode(10)\n",
    "tree.left = TreeNode(15)\n",
    "tree.right = TreeNode(5)\n",
    "tree.left.left = TreeNode(20)\n",
    "tree.left.right = TreeNode(12)\n",
    "tree.right.left = TreeNode(7)\n",
    "tree.right.right = TreeNode(2)\n",
    "\n",
    "(Min, Max) = check_subtree(root, root.val, root.val)\n",
    "print(Min, Max)\n",
    "\n",
    "\n",
    "\n",
    "\n",
    "\n"
   ]
  },
  {
   "cell_type": "code",
   "execution_count": 10,
   "metadata": {},
   "outputs": [
    {
     "data": {
      "text/plain": [
       "True"
      ]
     },
     "execution_count": 10,
     "metadata": {},
     "output_type": "execute_result"
    }
   ],
   "source": [
    "''' 要訣: 設定各個節點的最大跟最小值, left節點，最大值\n",
    "right 節點，最小值\n",
    "\n",
    "'''\n",
    "import numpy as np\n",
    "def BST_helper(root, min, max):\n",
    "    if not root:\n",
    "        return True\n",
    "    \n",
    "    if root.val <= min or root.val >= max:\n",
    "        return False\n",
    "    return BST_helper(root.left, min, root.val) and BST_helper(root.right, root.val, max)\n",
    "\n",
    "root = TreeCase()\n",
    "BST_helper(root, -np.inf, np.inf)"
   ]
  },
  {
   "cell_type": "code",
   "execution_count": 12,
   "metadata": {},
   "outputs": [
    {
     "name": "stdout",
     "output_type": "stream",
     "text": [
      "Is BST\n"
     ]
    }
   ],
   "source": [
    "# Python program to check if a binary tree is bst or not\n",
    " \n",
    "INT_MAX = 4294967296\n",
    "INT_MIN = -4294967296\n",
    " \n",
    "# A binary tree node\n",
    "class Node:\n",
    "    def __init__(self, value):\n",
    "        self.val = value\n",
    "        self.left = None\n",
    "        self.right = None\n",
    " \n",
    " def isBST(node):\n",
    "    return (isBSTUtil(node, INT_MIN, INT_MAX))\n",
    " \n",
    "# Retusn true if the given tree is a BST and its values\n",
    "# >= min and <= max\n",
    "def isBSTUtil(node, mini, maxi):\n",
    "    if node is None:\n",
    "        return True\n",
    "    \n",
    "    # False if this node violates min/max constraint\n",
    "    if node.data < mini or node.data > maxi:\n",
    "        return False\n",
    " \n",
    "    # Otherwise check the subtrees recursively\n",
    "    # tightening the min or max constraint\n",
    "    return (isBSTUtil(node.left, mini, node.val -1) and\n",
    "          isBSTUtil(node.right, node.val+1, maxi))\n",
    " \n",
    "# Driver program to test above function\n",
    "root = Node(4)\n",
    "root.left = Node(2)\n",
    "root.right = Node(5)\n",
    "root.left.left = Node(1)\n",
    "root.left.right = Node(3)\n",
    " \n",
    "if (isBST(root)):\n",
    "    print( \"Is BST\")\n",
    "else:\n",
    "    print (\"Not a BST\")"
   ]
  },
  {
   "cell_type": "markdown",
   "metadata": {},
   "source": [
    "* Assign the value of each node to be the total number of nodes that belong to its left subtree."
   ]
  },
  {
   "cell_type": "code",
   "execution_count": 14,
   "metadata": {
    "collapsed": true
   },
   "outputs": [],
   "source": [
    "def change_tree(root):\n",
    "    if not root:\n",
    "        return 0\n",
    "    left = change_tree(root.left)\n",
    "    right = change_tree(root.right)\n",
    "    root.val = left\n",
    "    \n",
    "    return 1+left+right\n",
    "    \n"
   ]
  },
  {
   "cell_type": "markdown",
   "metadata": {},
   "source": [
    "* 經典例題2: Print BST keys in the given range. Given two values k1 and k2 (k1<k2) and a root pointer to Binary Search Tree. Print all the keys of tree in range k1 to k2. i.e. print all x such that k1<=x<=k2 and x is a key of given."
   ]
  },
  {
   "cell_type": "code",
   "execution_count": 16,
   "metadata": {},
   "outputs": [
    {
     "name": "stdout",
     "output_type": "stream",
     "text": [
      "5\n",
      "7\n",
      "10\n",
      "12\n",
      "15\n"
     ]
    }
   ],
   "source": [
    "# if not BST\n",
    "def print_tree(root, k1, k2):\n",
    "    if not root:\n",
    "        return\n",
    "    print_tree(root.left, k1, k2)\n",
    "    if root.val >= k1 and root.val <= k2:\n",
    "        print( root.val)\n",
    "    print_tree(root.right, k1, k2)\n",
    "\n",
    "root = TreeCase()\n",
    "print_tree(root, 3, 15)\n"
   ]
  },
  {
   "cell_type": "code",
   "execution_count": 39,
   "metadata": {},
   "outputs": [
    {
     "name": "stdout",
     "output_type": "stream",
     "text": [
      "[10, 5, 7, 15, 12, 12]\n",
      "[9, 7, 6, 8, 12, 11, 13]\n"
     ]
    }
   ],
   "source": [
    "# if BST\n",
    "def print_key(root, k1, k2, res):\n",
    "    if root == None:\n",
    "        return res\n",
    "    if root.val >= k1 and root.val <= k2:\n",
    "        res.append(root.val)\n",
    "        print_key(root.left, k1, k2, res)\n",
    "        print_key(root.right, k1, k2, res)\n",
    "        \n",
    "    if root.val <= k1:\n",
    "        print_key(root.right, k1, k2, res)\n",
    "        \n",
    "    if root.val >=k2:\n",
    "        print_key(root.left, k1, k2, res)\n",
    "    return res\n",
    "        \n",
    "root=TreeCase()\n",
    "print(print_key(root, 3,15, []))\n",
    "root = TreeCase2()\n",
    "print(print_key(root, 3, 15, []))\n"
   ]
  },
  {
   "cell_type": "code",
   "execution_count": 17,
   "metadata": {},
   "outputs": [
    {
     "name": "stdout",
     "output_type": "stream",
     "text": [
      "10\n",
      "5\n",
      "7\n",
      "15\n",
      "12\n"
     ]
    }
   ],
   "source": [
    "# if BST\n",
    "def print_treeBST(root, k1, k2):\n",
    "    if not root:\n",
    "        return \n",
    "    if root.val < k1:\n",
    "        print_treeBST(root.right, k1, k2)\n",
    "        return\n",
    "    if root.val > k2:\n",
    "        print_treeBST(root.left, k1, k2)\n",
    "        return\n",
    "    print(root.val)\n",
    "    print_treeBST(root.left, k1, k2)\n",
    "    print_treeBST(root.right, k1, k2)\n",
    "    return \n",
    "\n",
    "root = TreeCase()\n",
    "print_treeBST(root, 3, 15)\n"
   ]
  },
  {
   "cell_type": "code",
   "execution_count": 18,
   "metadata": {},
   "outputs": [
    {
     "name": "stdout",
     "output_type": "stream",
     "text": [
      "5\n",
      "7\n",
      "10\n",
      "12\n",
      "15\n"
     ]
    }
   ],
   "source": [
    "# if BST, and we want it print in order\n",
    "def range_inorder(root, lower, upper):\n",
    "    if not root:\n",
    "        return\n",
    "    if root.val > lower:\n",
    "        range_inorder(root.left, lower, upper)\n",
    "    if root.val >= lower and root.val <= upper:\n",
    "        print(root.val)\n",
    "    if root.val < upper:\n",
    "        range_inorder(root.right, lower, upper)\n",
    "\n",
    "root = TreeCase()\n",
    "range_inorder(root, 3, 15)\n",
    "# Time Complexity: O(n) where n is the total number of keys in tree.\n"
   ]
  },
  {
   "cell_type": "markdown",
   "metadata": {},
   "source": [
    "* HW: Invert Binary Tree\n",
    "             10                               10\n",
    "            /  \\                             /  \\\n",
    "           5   15         ==>               15    5       \n",
    "          / \\  / \\                         /  \\  / \\\n",
    "         2  7 12  20                      20  12 7  2\n"
   ]
  },
  {
   "cell_type": "code",
   "execution_count": 48,
   "metadata": {},
   "outputs": [
    {
     "name": "stdout",
     "output_type": "stream",
     "text": [
      "[10, 5, 2, 7, 15, 12, 20]\n",
      "[10, 15, 20, 12, 5, 7, 2]\n"
     ]
    }
   ],
   "source": [
    "def invert_BT(root):\n",
    "    if root.left == None and root.right == None:\n",
    "        return\n",
    "    if root.left == None:\n",
    "        root.left = root.right\n",
    "        return\n",
    "    if root.right == None:\n",
    "        root.right = root.left\n",
    "        return\n",
    "    temp = root.left\n",
    "    root.left = root.right\n",
    "    root.right = temp\n",
    "    invert_BT(root.left)\n",
    "    invert_BT(root.right)\n",
    "\n",
    "root = TreeCase()\n",
    "print(pre_order(root))\n",
    "invert_BT(root)\n",
    "print(pre_order(root))\n"
   ]
  },
  {
   "cell_type": "code",
   "execution_count": 19,
   "metadata": {
    "collapsed": true
   },
   "outputs": [],
   "source": [
    "def invert_bt(root):\n",
    "    if not root:\n",
    "        return \n",
    "    if not root.left and not root.right:\n",
    "        return\n",
    "    if not root.left:\n",
    "        root.left = TreeNode(root.right.val)\n",
    "        root.right = None\n",
    "    if not root.right:\n",
    "        root.right = TreeNode(root.left.val)\n",
    "        root.left = None\n",
    "    \n",
    "    \n",
    "    temp = root.left.val\n",
    "    root.left.val = root.right.val\n",
    "    root.right.val = temp\n",
    "    invert_bt(root.left)\n",
    "    invert_bt(root.right)\n",
    "    return\n",
    "\n",
    "    \n",
    "    \n",
    "    "
   ]
  },
  {
   "cell_type": "markdown",
   "metadata": {},
   "source": [
    "* Path Sum: Given a binary tree and a sum , determine if the tree has a root-to-leaf path such that adding up all the values along the path equals the given sum."
   ]
  },
  {
   "cell_type": "code",
   "execution_count": 52,
   "metadata": {},
   "outputs": [
    {
     "data": {
      "text/plain": [
       "False"
      ]
     },
     "execution_count": 52,
     "metadata": {},
     "output_type": "execute_result"
    }
   ],
   "source": [
    "def Path_sum(root, target, res):\n",
    "    if root == None and res != target:\n",
    "        return False\n",
    "    \n",
    "    if root==None and res == target:\n",
    "        print(res)\n",
    "        return True\n",
    "    \n",
    "    \n",
    "    if sum(res) <= target:\n",
    "        res.append(root.val)\n",
    "        return Path_sum(root.left, target, res) or Path_sum(root.right, target, res)\n",
    "    else:\n",
    "        return False\n",
    "root = TreeCase()\n",
    "Path_sum(root, 17, [])\n"
   ]
  },
  {
   "cell_type": "code",
   "execution_count": 53,
   "metadata": {},
   "outputs": [
    {
     "data": {
      "text/plain": [
       "False"
      ]
     },
     "execution_count": 53,
     "metadata": {},
     "output_type": "execute_result"
    }
   ],
   "source": [
    "def pathsum(root, target, path):\n",
    "    if not root:\n",
    "        if target == 0:\n",
    "            return True\n",
    "        return False\n",
    "    \n",
    "    target =- root.val\n",
    "    path.append(root.val)\n",
    "    return pathsum(root.left, target, path) or pathsum(root.right, target, path)\n",
    "\n",
    "root = TreeCase()\n",
    "pathsum(root, 45, path=[])\n",
    "    \n",
    "    "
   ]
  },
  {
   "cell_type": "markdown",
   "metadata": {
    "collapsed": true
   },
   "source": [
    "Solution: https://www.geeksforgeeks.org/root-to-leaf-path-sum-equal-to-a-given-number/"
   ]
  },
  {
   "cell_type": "code",
   "execution_count": null,
   "metadata": {
    "collapsed": true
   },
   "outputs": [],
   "source": []
  }
 ],
 "metadata": {
  "kernelspec": {
   "display_name": "Python 2",
   "language": "python",
   "name": "python2"
  },
  "language_info": {
   "codemirror_mode": {
    "name": "ipython",
    "version": 2
   },
   "file_extension": ".py",
   "mimetype": "text/x-python",
   "name": "python",
   "nbconvert_exporter": "python",
   "pygments_lexer": "ipython2",
   "version": "2.7.6"
  }
 },
 "nbformat": 4,
 "nbformat_minor": 2
}
