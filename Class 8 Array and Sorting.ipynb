{
 "cells": [
  {
   "cell_type": "markdown",
   "metadata": {},
   "source": [
    "* Bubble sort: 一直兩兩互換, 跑兩次迴圈"
   ]
  },
  {
   "cell_type": "code",
   "execution_count": 14,
   "metadata": {},
   "outputs": [
    {
     "name": "stdout",
     "output_type": "stream",
     "text": [
      "[-1, 0, 1, 2, 3, 5]\n"
     ]
    }
   ],
   "source": [
    "def Bubble_sort(array):\n",
    "    for end in range(len(array)-1, 0, -1):\n",
    "        for i in range(end):\n",
    "            if array[i] > array[i+1]:\n",
    "                array[i], array[i+1] = array[i+1], array[i]\n",
    "    return array\n",
    "array = [2,3,1,0,5,-1]    \n",
    "print(Bubble_sort(array))            "
   ]
  },
  {
   "cell_type": "markdown",
   "metadata": {},
   "source": [
    "* Selection sort: 選到最小的一個, 跟最左邊的交換, 接著從剩下的選最小的, 跟最左邊二號交換..."
   ]
  },
  {
   "cell_type": "code",
   "execution_count": 15,
   "metadata": {},
   "outputs": [
    {
     "name": "stdout",
     "output_type": "stream",
     "text": [
      "[-1, 0, 1, 2, 3, 5]\n"
     ]
    }
   ],
   "source": [
    "def Selection_sort(array):\n",
    "    for start in range(len(array)-1):  # 從一開頭到最後倒數第二個, 到最後一個也無所謂\n",
    "        smallest_index = start\n",
    "        for i in range(start+1, len(array)): # 從 start+1 到最後一個\n",
    "            \n",
    "#             print('找的範圍:',(start+1, len(array)-1)) \n",
    "            if array[i] < array[smallest_index]:\n",
    "                smallest_index = i\n",
    "        \n",
    "#         print('smallest', array[smallest_index])\n",
    "        array[start], array[smallest_index] = array[smallest_index], array[start]\n",
    "#         print(array)\n",
    "#         print('==========')\n",
    "    return array\n",
    "\n",
    "array = [2, 3, 1, 0, 5, -1]\n",
    "print(Selection_sort(array))\n",
    "            \n"
   ]
  },
  {
   "cell_type": "markdown",
   "metadata": {},
   "source": [
    "*  Insertion sort: 從第二個開始,往前插入放在合適的位置，接著第三個..."
   ]
  },
  {
   "cell_type": "code",
   "execution_count": null,
   "metadata": {
    "collapsed": true
   },
   "outputs": [],
   "source": [
    "'''def Insertion_sort(array):\n",
    "    for insert in range(1, len(array)):\n",
    "        for i in range(insert-1, 0, -1):\n",
    "            if array[insert] < array[i] and array[insert] > array[i-1]:\n",
    "                array[i], array[i+1:insert] = array[insert], array[i+1]\n",
    "            \n",
    "            \n",
    "    '''"
   ]
  },
  {
   "cell_type": "code",
   "execution_count": 27,
   "metadata": {},
   "outputs": [
    {
     "name": "stdout",
     "output_type": "stream",
     "text": [
      "[-1, 0, 1, 2, 3, 5]\n"
     ]
    }
   ],
   "source": [
    "def insertion_sort(array):\n",
    "    for i in range(1, len(array)): # insert value index\n",
    "        cur = array[i]\n",
    "        k = i\n",
    "        while k>0 and cur < array[k-1]:\n",
    "            array[k] = array[k-1]\n",
    "            k -= 1\n",
    "        array[k] = cur\n",
    "    return array\n",
    "\n",
    "array = [2, 3, 1, 0, 5, -1]\n",
    "print(insertion_sort(array))\n"
   ]
  },
  {
   "cell_type": "code",
   "execution_count": null,
   "metadata": {
    "collapsed": true
   },
   "outputs": [],
   "source": [
    "def insertion_sort(array):\n",
    "    for start in range(1, len(array)):\n",
    "        i = start\n",
    "        while i > 0 and array[i] < array[i-1]:\n",
    "            array[i], array[i-1] = array[i-1], array[i]\n",
    "            i = i-1\n",
    "    return array\n",
    "\n",
    "array = [2, 3, 1, 0, 5, -1]\n",
    "print(insertion_sort(array))\n"
   ]
  },
  {
   "cell_type": "markdown",
   "metadata": {},
   "source": [
    "* Merge sort: http://interactivepython.org/courselib/static/pythonds/SortSearch/TheMergeSort.html"
   ]
  },
  {
   "cell_type": "code",
   "execution_count": 32,
   "metadata": {},
   "outputs": [
    {
     "data": {
      "text/html": [
       "<img src='mergesort.png', width=400, height=400>"
      ],
      "text/plain": [
       "<IPython.core.display.HTML object>"
      ]
     },
     "metadata": {},
     "output_type": "display_data"
    }
   ],
   "source": [
    "%%html\n",
    "<img src='mergesort.png', width=400, height=400>"
   ]
  },
  {
   "cell_type": "code",
   "execution_count": 13,
   "metadata": {},
   "outputs": [
    {
     "name": "stdout",
     "output_type": "stream",
     "text": [
      "[17, 20, 26, 31, 44, 52, 55, 77, 93]\n",
      "[17, 20, 26, 31, 44, 52, 55, 77, 93]\n"
     ]
    }
   ],
   "source": [
    "def mergesort(array):\n",
    "#     print(\"splitting\", array)\n",
    "    if len(array) > 1:\n",
    "        mid = len(array)//2\n",
    "        lefthalf = array[:mid]\n",
    "        righthalf = array[mid:]\n",
    "        \n",
    "        mergesort(lefthalf)\n",
    "        mergesort(righthalf)\n",
    "        \n",
    "        i, j , k = 0, 0, 0 # the index of lefthalf, righthalf, and the merge\n",
    "        \n",
    "        while i < len(lefthalf) and j < len(righthalf):  # merge process\n",
    "            if lefthalf[i] < righthalf[j]:\n",
    "                array[k] = lefthalf[i]\n",
    "                i += 1\n",
    "            else:\n",
    "                array[k] = righthalf[j]\n",
    "                j += 1\n",
    "            k += 1\n",
    "            \n",
    "        ''' 剩下的裝上'''\n",
    "        while i < len(lefthalf): # if lefthalf left\n",
    "            array[k] = lefthalf[i]\n",
    "            i += 1\n",
    "            k += 1\n",
    "            \n",
    "        while j < len(righthalf):\n",
    "            array[k] = righthalf[j]\n",
    "            j += 1\n",
    "            k += 1\n",
    "#     print('Merging', array)\n",
    "    \n",
    "array = [52, 26, 93, 17, 77, 31, 44, 55, 20]\n",
    "mergesort(array)\n",
    "print(array)\n",
    "          \n",
    "\n",
    "def mergeSort(array):\n",
    "    if len(array) <= 1:\n",
    "        return array\n",
    "    left = array[:len(array)//2]\n",
    "    right = array[len(array)//2:]\n",
    "\n",
    "    mergeSort(left)\n",
    "    mergeSort(right)\n",
    "\n",
    "\n",
    "    i, j, k = 0, 0, 0\n",
    "    \n",
    "    while i < len(left) and j < len(right):\n",
    "        if left[i] < right[j]:\n",
    "            array[k] = left[i]\n",
    "            k += 1\n",
    "            i += 1\n",
    "        else:\n",
    "            array[k] = right[j]\n",
    "            k += 1\n",
    "            j += 1\n",
    "\n",
    "    while i < len(left): # if lefthalf left\n",
    "        array[k] = left[i]\n",
    "        i += 1\n",
    "        k += 1\n",
    "            \n",
    "    while j < len(right):\n",
    "        array[k] = right[j]\n",
    "        j += 1\n",
    "        k += 1         \n",
    "\n",
    "array = [52, 26, 93, 17, 77, 31, 44, 55, 20]\n",
    "mergeSort(array)\n",
    "print array"
   ]
  },
  {
   "cell_type": "code",
   "execution_count": null,
   "metadata": {
    "collapsed": true
   },
   "outputs": [],
   "source": [
    "''' ********Simple version, will cost some space*************'''\n",
    "def mergeSort(array):\n",
    "    if len(array) == 1:\n",
    "        return array\n",
    "    left = array[:len(array)//2]\n",
    "    right = array[len(array)//2:]\n",
    "\n",
    "    mergeSort(left)\n",
    "    mergeSort(right)\n",
    "\n",
    "\n",
    "    i, j, k = 0, 0, 0\n",
    "    res = []\n",
    "    while i < len(left) and j < len(right):\n",
    "        if left[i] < right[j]:\n",
    "            res.append(left[i])\n",
    "            i += 1\n",
    "        else:\n",
    "            res.append(right[j])\n",
    "            j += 1\n",
    "\n",
    "    if i == len(left):\n",
    "        res.extend(right[j:])\n",
    "    if j == len(right):\n",
    "        res.extend(left[i:])\n",
    "    return res\n",
    "\n",
    "array = [52, 26, 93, 17, 77, 31, 44, 55, 20]\n",
    "mergeSort(array)"
   ]
  },
  {
   "cell_type": "markdown",
   "metadata": {},
   "source": [
    "* quick sort : 主要是選一個點當作pivot (通常是最後一個或第一個), 然後比他大的放右邊, 比他小的放左邊, 接著把左右的subarray, 分別做一樣的操作."
   ]
  },
  {
   "cell_type": "code",
   "execution_count": 34,
   "metadata": {},
   "outputs": [
    {
     "data": {
      "text/html": [
       "<img src='quicksort.png', width=500, height=400>"
      ],
      "text/plain": [
       "<IPython.core.display.HTML object>"
      ]
     },
     "metadata": {},
     "output_type": "display_data"
    }
   ],
   "source": [
    "%%html\n",
    "<img src='quicksort.png', width=500, height=400>"
   ]
  },
  {
   "cell_type": "code",
   "execution_count": 27,
   "metadata": {},
   "outputs": [
    {
     "name": "stdout",
     "output_type": "stream",
     "text": [
      "7\n",
      "[7, 8, 1, 5, 3, 2, 6, 8, 10, 9]\n",
      "[1, 2, 3, 5, 6, 7, 8, 9, 8, 10]\n"
     ]
    }
   ],
   "source": [
    "def patition(array, low, high):\n",
    "    i = low    # This is the correct index that pviot should put\n",
    "    pivot = array[high]\n",
    "    for j in range(low, high):\n",
    "        if array[j] <= pivot:\n",
    "            array[j], array[i] = array[i], array[j]\n",
    "            i += 1\n",
    "        array[i], array[high] = array[high], array[i]\n",
    "    return i\n",
    "\n",
    "def quick_sort(array, low, high):\n",
    "    if low < high:\n",
    "        pi = patition(array, low, high)\n",
    "        \n",
    "        quick_sort(array, pi+1, high)\n",
    "        quick_sort(array, low, pi-1)\n",
    "        \n",
    "    \n",
    "arr = [10, 7, 8, 9, 1, 5, 3, 2, 6, 8] \n",
    "print(partition(arr, 0, len(arr)-1))\n",
    "print(arr)\n",
    "quick_sort(arr, 0, len(arr)-1)\n",
    "print arr"
   ]
  },
  {
   "cell_type": "code",
   "execution_count": 7,
   "metadata": {},
   "outputs": [
    {
     "data": {
      "text/plain": [
       "[1, 5, 7, 8, 9, 10]"
      ]
     },
     "execution_count": 7,
     "metadata": {},
     "output_type": "execute_result"
    }
   ],
   "source": [
    "'''******** easy version, will cost certain sapce**************'''\n",
    "def quick_sort(array):\n",
    "    if len(array) <= 1:\n",
    "        return array\n",
    "    \n",
    "    # partition\n",
    "    pivot = array[len(array)-1]\n",
    "    \n",
    "    left = []\n",
    "    right = []\n",
    "    mid = []\n",
    "    for i in range(len(array)):\n",
    "        if array[i] < pivot:\n",
    "            left.append(array[i])\n",
    "        elif array[i] > pivot:\n",
    "            right.append(array[i])\n",
    "        else:\n",
    "            mid.append(array[i])\n",
    "            \n",
    "    left = quick_sort(left)\n",
    "    right = quick_sort(right)\n",
    "    \n",
    "    res = left\n",
    "    res.extend(mid)\n",
    "    res.extend(right)\n",
    "    \n",
    "    return res\n",
    "    \n",
    "arr = [10, 7, 8, 9, 1, 5] \n",
    "quick_sort(arr)\n",
    "    \n",
    "    \n",
    "    \n",
    "    "
   ]
  },
  {
   "cell_type": "code",
   "execution_count": 4,
   "metadata": {},
   "outputs": [
    {
     "name": "stdout",
     "output_type": "stream",
     "text": [
      "[1, 5, 7, 8, 9, 10]\n",
      "[1, 5, 7, 8, 9, 10]\n",
      "[1, 5, 7, 8, 9, 10]\n",
      "[1, 5, 7, 8, 9, 10]\n",
      "Sorted array is:\n"
     ]
    },
    {
     "data": {
      "text/plain": [
       "[1, 5, 7, 8, 9, 10]"
      ]
     },
     "execution_count": 4,
     "metadata": {},
     "output_type": "execute_result"
    }
   ],
   "source": [
    "# This function takes last element as pivot, places \n",
    "# the pivot element at its correct position in sorted \n",
    "# array, and places all smaller (smaller than pivot) \n",
    "# to left of pivot and all greater elements to right \n",
    "# of pivot \n",
    "def partition(arr,low,high): \n",
    "    i = ( low-1 )         # index of smaller element 這只是用來計算 pivot 之後會在那個位置\n",
    "    pivot = arr[high]     # pivot \n",
    "  \n",
    "    for j in range(low , high): \n",
    "  \n",
    "        # If current element is smaller than or \n",
    "        # equal to pivot \n",
    "        if   arr[j] <= pivot: \n",
    "          \n",
    "            # increment index of smaller element \n",
    "            i = i+1 \n",
    "            arr[i],arr[j] = arr[j],arr[i] \n",
    "  \n",
    "    arr[i+1],arr[high] = arr[high],arr[i+1] \n",
    "    return ( i+1 ) \n",
    "  \n",
    "# The main function that implements QuickSort \n",
    "# arr[] --> Array to be sorted, \n",
    "# low  --> Starting index, \n",
    "# high  --> Ending index \n",
    "  \n",
    "# Function to do Quick sort \n",
    "def quickSort(arr,low,high): \n",
    "    if low < high: \n",
    "  \n",
    "        # pi is partitioning index, arr[p] is now \n",
    "        # at right place \n",
    "        pi = partition(arr,low,high) \n",
    "  \n",
    "        # Separately sort elements before \n",
    "        # partition and after partition \n",
    "        quickSort(arr, low, pi-1) \n",
    "        quickSort(arr, pi+1, high) \n",
    "        print(arr)\n",
    "  \n",
    "# Driver code to test above \n",
    "arr = [10, 7, 8, 9, 1, 5] \n",
    "n = len(arr) \n",
    "quickSort(arr,0,n-1) \n",
    "print (\"Sorted array is:\") \n",
    "arr\n",
    "# for i in range(n): \n",
    "#     print (\"%d\" %arr[i]), \n",
    "            "
   ]
  },
  {
   "cell_type": "code",
   "execution_count": 6,
   "metadata": {},
   "outputs": [
    {
     "name": "stdout",
     "output_type": "stream",
     "text": [
      "1\n",
      "[1, 5, 8, 9, 10, 7]\n"
     ]
    }
   ],
   "source": [
    "''' 看以下例子, partition function 主要把當前pivot 放到正確位置, 比他大的放右邊,比他小的放左邊'''\n",
    "arr= [10, 7, 8, 9, 1, 5]\n",
    "n = len(arr) \n",
    "pi = partition(arr, 0, n-1)\n",
    "print(pi)   # 之前 pivot, 後來的index.\n",
    "print(arr)"
   ]
  },
  {
   "cell_type": "code",
   "execution_count": 51,
   "metadata": {},
   "outputs": [
    {
     "name": "stdout",
     "output_type": "stream",
     "text": [
      "-1\n",
      "[6, 3, 5, 9, 1, 5]\n",
      "6 3 0\n",
      "[3, 6, 5, 9, 1, 5]\n",
      "6 5 1\n",
      "[3, 5, 6, 9, 1, 5]\n",
      "[3, 5, 6, 9, 1, 5]\n",
      "6 1 2\n",
      "[3, 5, 1, 9, 6, 5]\n"
     ]
    },
    {
     "data": {
      "text/plain": [
       "[3, 5, 1, 5, 6, 9]"
      ]
     },
     "execution_count": 51,
     "metadata": {},
     "output_type": "execute_result"
    }
   ],
   "source": [
    "# This function takes last element as pivot, places \n",
    "# the pivot element at its correct position in sorted \n",
    "# array, and places all smaller (smaller than pivot) \n",
    "# to left of pivot and all greater elements to right \n",
    "# of pivot \n",
    "def partition(arr,low,high): \n",
    "    i = ( low-1 )         # index of smaller element 這只是用來計算 pivot 之後會在那個位置\n",
    "    pivot = arr[high]     # pivot \n",
    "    \n",
    "    print(i)\n",
    "    for j in range(low , high): \n",
    "  \n",
    "        # If current element is smaller than or \n",
    "        # equal to pivot \n",
    "        if   arr[j] <= pivot: \n",
    "            \n",
    "            # increment index of smaller element \n",
    "            i = i+1 \n",
    "            print(arr[i],arr[j], i)\n",
    "            arr[i],arr[j] = arr[j],arr[i] \n",
    "        print(arr)\n",
    "    \n",
    "    \n",
    "    arr[i+1],arr[high] = arr[high],arr[i+1] \n",
    "    return ( i+1 ) \n",
    "\n",
    "arr, n = [6, 3, 5, 9, 1, 5] , len(arr) \n",
    "pi = partition(arr, 0, n-1)\n",
    "arr"
   ]
  },
  {
   "cell_type": "code",
   "execution_count": 7,
   "metadata": {},
   "outputs": [
    {
     "data": {
      "text/plain": [
       "16.8872"
      ]
     },
     "execution_count": 7,
     "metadata": {},
     "output_type": "execute_result"
    }
   ],
   "source": [
    "11.99*1.28+1.54"
   ]
  },
  {
   "cell_type": "code",
   "execution_count": 8,
   "metadata": {},
   "outputs": [
    {
     "data": {
      "text/plain": [
       "115000"
      ]
     },
     "execution_count": 8,
     "metadata": {},
     "output_type": "execute_result"
    }
   ],
   "source": []
  },
  {
   "cell_type": "code",
   "execution_count": null,
   "metadata": {
    "collapsed": true
   },
   "outputs": [],
   "source": []
  }
 ],
 "metadata": {
  "kernelspec": {
   "display_name": "Python 2",
   "language": "python",
   "name": "python2"
  },
  "language_info": {
   "codemirror_mode": {
    "name": "ipython",
    "version": 2
   },
   "file_extension": ".py",
   "mimetype": "text/x-python",
   "name": "python",
   "nbconvert_exporter": "python",
   "pygments_lexer": "ipython2",
   "version": "2.7.6"
  }
 },
 "nbformat": 4,
 "nbformat_minor": 2
}
