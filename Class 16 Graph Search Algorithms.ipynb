{
 "cells": [
  {
   "cell_type": "markdown",
   "metadata": {},
   "source": [
    "* Function to generate the list of all edges:\n"
   ]
  },
  {
   "cell_type": "code",
   "execution_count": 2,
   "metadata": {},
   "outputs": [
    {
     "data": {
      "text/plain": [
       "[(0, 1),\n",
       " (0, 4),\n",
       " (1, 0),\n",
       " (1, 2),\n",
       " (1, 3),\n",
       " (2, 1),\n",
       " (2, 3),\n",
       " (3, 1),\n",
       " (3, 2),\n",
       " (3, 4),\n",
       " (4, 0),\n",
       " (4, 3)]"
      ]
     },
     "execution_count": 2,
     "metadata": {},
     "output_type": "execute_result"
    }
   ],
   "source": [
    "'''\n",
    "Time Complexity: O(E)\n",
    "    0---1\n",
    "    |   |\\\n",
    "    |   | 2\n",
    "    4---3/\n",
    "'''\n",
    "graph = {0:{1,4}, 1:{0, 3, 2}, 2:{1, 3}, 3:{1,4,2}, 4:{3,0}}\n",
    "def generate_edge(graph):\n",
    "    edges = []\n",
    "    for node in graph:\n",
    "        for neighbor in graph[node]:\n",
    "            edges.append((node, neighbor))\n",
    "    return edges\n",
    "generate_edge(graph)\n",
    "    "
   ]
  },
  {
   "cell_type": "markdown",
   "metadata": {},
   "source": [
    "* Function to get all of the vertices:"
   ]
  },
  {
   "cell_type": "code",
   "execution_count": 3,
   "metadata": {
    "collapsed": true
   },
   "outputs": [],
   "source": [
    "def get_vertices(graph):\n",
    "    return graph.keys()"
   ]
  },
  {
   "cell_type": "markdown",
   "metadata": {},
   "source": [
    "* Function to add vertex: "
   ]
  },
  {
   "cell_type": "code",
   "execution_count": 5,
   "metadata": {},
   "outputs": [
    {
     "data": {
      "text/plain": [
       "{0: {1, 4}, 1: {0, 2, 3}, 2: {1, 3}, 3: {1, 2, 4}, 4: {0, 3}, 9: set()}"
      ]
     },
     "execution_count": 5,
     "metadata": {},
     "output_type": "execute_result"
    }
   ],
   "source": [
    "'''Time Complexity O(1)'''\n",
    "def add_vertex(graph, vertex):\n",
    "    if vertex not in graph:\n",
    "        graph[vertex] = set()\n",
    "\n",
    "add_vertex(graph, 9)\n",
    "graph"
   ]
  },
  {
   "cell_type": "markdown",
   "metadata": {},
   "source": [
    "* Function to add an edge"
   ]
  },
  {
   "cell_type": "code",
   "execution_count": 7,
   "metadata": {},
   "outputs": [],
   "source": [
    "def add_neighbor(graph, vertex1, vertex2):\n",
    "    if vertex1 not in graph:\n",
    "        graph[vertex1] = {vertex2}\n",
    "    else:\n",
    "        if vertex2 not in graph[vertex1]:\n",
    "            graph[vertex1].add(vertex2)\n",
    "            \n",
    "def add_edge(graph, edge):\n",
    "    ''' \n",
    "        assumes that edge is represented as a tuple\n",
    "    '''\n",
    "    (vertex1, vertex2) = edge\n",
    "    add_neighbor(graph, vertex1, vertex2)\n",
    "    add_neighbor(graph, vertex2, vertex1)\n",
    "    "
   ]
  },
  {
   "cell_type": "markdown",
   "metadata": {},
   "source": [
    "* Breadth First Search (BFS)"
   ]
  },
  {
   "cell_type": "code",
   "execution_count": 9,
   "metadata": {},
   "outputs": [
    {
     "name": "stdout",
     "output_type": "stream",
     "text": [
      "[0, 1, 4, 2, 3]\n"
     ]
    }
   ],
   "source": [
    "def BFS(graph, start):\n",
    "    visited, queue  = set(), [start]\n",
    "    visit_path = []\n",
    "    while queue:\n",
    "        vertex = queue.pop(0)\n",
    "        if vertex not in visited:\n",
    "            visited.add(vertex)\n",
    "            visit_path.append(vertex)\n",
    "            queue.extend(graph[vertex] - visited)  # 利用了python set 可以減去subset的特性，其他語言必須使用 queue\n",
    "    return visit_path\n",
    "print(BFS(graph, 0))"
   ]
  },
  {
   "cell_type": "code",
   "execution_count": 17,
   "metadata": {},
   "outputs": [
    {
     "name": "stdout",
     "output_type": "stream",
     "text": [
      "======Choose  0 =========\n",
      "visited: {0}\n",
      "queue: [1, 4]\n",
      "======Choose  1 =========\n",
      "visited: {0, 1}\n",
      "queue: [4, 2, 3]\n",
      "======Choose  4 =========\n",
      "visited: {0, 1, 4}\n",
      "queue: [2, 3, 3]\n",
      "======Choose  2 =========\n",
      "visited: {0, 1, 2, 4}\n",
      "queue: [3, 3, 3]\n",
      "======Choose  3 =========\n",
      "visited: {0, 1, 2, 3, 4}\n",
      "queue: [3, 3]\n",
      "======Choose  3 =========\n",
      "======Choose  3 =========\n",
      "BFS path: [0, 1, 4, 2, 3]\n"
     ]
    }
   ],
   "source": [
    "def BFS(graph, start):\n",
    "    visited = set()   # 記錄走過的\n",
    "    queue = [start]   # 先進先出特性，代表BFS\n",
    "    visit_path = []\n",
    "    while queue:\n",
    "        vertex = queue.pop(0) # 永遠踢第一個\n",
    "        print(\"======Choose \", vertex, \"=========\")\n",
    "        if vertex not in visited:\n",
    "            visited.add(vertex)\n",
    "            visit_path.append(vertex)\n",
    "            queue.extend(graph[vertex] - visited)\n",
    "            print(\"visited:\", visited)\n",
    "            print(\"queue:\", queue)\n",
    "            \n",
    "    return visit_path\n",
    "print(\"BFS path:\",BFS(graph, 0))\n",
    "        \n",
    "    "
   ]
  },
  {
   "cell_type": "markdown",
   "metadata": {},
   "source": [
    "* Depth first search(DFS)"
   ]
  },
  {
   "cell_type": "code",
   "execution_count": 20,
   "metadata": {},
   "outputs": [
    {
     "name": "stdout",
     "output_type": "stream",
     "text": [
      "======Choose  0 =========\n",
      "visited: {0}\n",
      "stack: [1, 4]\n",
      "======Choose  4 =========\n",
      "visited: {0, 4}\n",
      "stack: [1, 3]\n",
      "======Choose  3 =========\n",
      "visited: {0, 3, 4}\n",
      "stack: [1, 1, 2]\n",
      "======Choose  2 =========\n",
      "visited: {0, 2, 3, 4}\n",
      "stack: [1, 1, 1]\n",
      "======Choose  1 =========\n",
      "visited: {0, 1, 2, 3, 4}\n",
      "stack: [1, 1]\n",
      "======Choose  1 =========\n",
      "======Choose  1 =========\n",
      "DFS path: [0, 4, 3, 2, 1]\n"
     ]
    }
   ],
   "source": [
    "def dfs1(graph,start):\n",
    "    visited = set()\n",
    "    stack = [start]\n",
    "    visit_path = []\n",
    "    while stack:\n",
    "        vertex = stack.pop()    # 永遠踢最後一個\n",
    "        print(\"======Choose \", vertex, \"=========\")\n",
    "        if vertex not in visited:\n",
    "            visited.add(vertex)\n",
    "            visit_path.append(vertex)\n",
    "            stack.extend(graph[vertex] - visited)\n",
    "            print(\"visited:\", visited)\n",
    "            print(\"stack:\", stack)\n",
    "    return visit_path\n",
    "print(\"DFS path:\",dfs1(graph, 0))\n",
    "\n"
   ]
  },
  {
   "cell_type": "code",
   "execution_count": 18,
   "metadata": {},
   "outputs": [
    {
     "name": "stdout",
     "output_type": "stream",
     "text": [
      "DFS path: [0, 4, 3, 2, 1]\n",
      "DFS path: [1, 2, 3, 4]\n"
     ]
    }
   ],
   "source": [
    "\n",
    "# def dfs(graph,start,visit_path = [], visited = None):\n",
    "#     if visited is None:\n",
    "#         visited = set()\n",
    "#     visited.add(start)\n",
    "#     for vertex in graph[start]:\n",
    "#         if vertex not in visited:\n",
    "#             visit_path.append(vertex)\n",
    "#             dfs(graph, vertex, visit_path, visited)\n",
    "#     return visit_path\n",
    "# print(\"DFS path:\",dfs(graph, 0))"
   ]
  },
  {
   "cell_type": "code",
   "execution_count": null,
   "metadata": {
    "collapsed": true
   },
   "outputs": [],
   "source": []
  },
  {
   "cell_type": "code",
   "execution_count": null,
   "metadata": {
    "collapsed": true
   },
   "outputs": [],
   "source": []
  },
  {
   "cell_type": "code",
   "execution_count": null,
   "metadata": {
    "collapsed": true
   },
   "outputs": [],
   "source": []
  },
  {
   "cell_type": "code",
   "execution_count": null,
   "metadata": {
    "collapsed": true
   },
   "outputs": [],
   "source": []
  },
  {
   "cell_type": "code",
   "execution_count": null,
   "metadata": {
    "collapsed": true
   },
   "outputs": [],
   "source": []
  },
  {
   "cell_type": "code",
   "execution_count": null,
   "metadata": {
    "collapsed": true
   },
   "outputs": [],
   "source": []
  },
  {
   "cell_type": "code",
   "execution_count": null,
   "metadata": {
    "collapsed": true
   },
   "outputs": [],
   "source": []
  }
 ],
 "metadata": {
  "kernelspec": {
   "display_name": "Python [conda env:py37]",
   "language": "python",
   "name": "conda-env-py37-py"
  },
  "language_info": {
   "codemirror_mode": {
    "name": "ipython",
    "version": 3
   },
   "file_extension": ".py",
   "mimetype": "text/x-python",
   "name": "python",
   "nbconvert_exporter": "python",
   "pygments_lexer": "ipython3",
   "version": "3.7.1"
  }
 },
 "nbformat": 4,
 "nbformat_minor": 2
}
