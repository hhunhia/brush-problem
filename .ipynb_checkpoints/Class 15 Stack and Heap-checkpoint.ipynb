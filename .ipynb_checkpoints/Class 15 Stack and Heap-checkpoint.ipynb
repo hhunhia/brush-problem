{
 "cells": [
  {
   "cell_type": "markdown",
   "metadata": {},
   "source": [
    "module_name, package_name\n",
    "ClassName, ExceptionName\n",
    "method_name, function_name, global_var_name, instance_var_name, function_parameter_name, local_var_name\n",
    "GLOBAL_CONSTANT_NAME"
   ]
  },
  {
   "cell_type": "code",
   "execution_count": null,
   "metadata": {},
   "outputs": [],
   "source": [
    "class MinHeap:\n",
    "    def __init__(self):\n",
    "        self.size = 0\n",
    "        self.arr = []\n",
    "        \n",
    "    def push(self, value):\n",
    "        self.arr.append(value)\n",
    "        self.size += 1\n",
    "        self.percolate_up(size-1)\n",
    "        "
   ]
  }
 ],
 "metadata": {
  "kernelspec": {
   "display_name": "Python 3",
   "language": "python",
   "name": "python3"
  },
  "language_info": {
   "codemirror_mode": {
    "name": "ipython",
    "version": 3
   },
   "file_extension": ".py",
   "mimetype": "text/x-python",
   "name": "python",
   "nbconvert_exporter": "python",
   "pygments_lexer": "ipython3",
   "version": "3.5.5"
  }
 },
 "nbformat": 4,
 "nbformat_minor": 2
}
