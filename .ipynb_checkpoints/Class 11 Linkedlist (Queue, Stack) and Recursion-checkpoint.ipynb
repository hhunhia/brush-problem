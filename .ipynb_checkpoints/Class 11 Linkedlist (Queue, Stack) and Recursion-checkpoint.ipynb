{
 "cells": [
  {
   "cell_type": "code",
   "execution_count": 3,
   "metadata": {
    "collapsed": true
   },
   "outputs": [],
   "source": [
    "class ListNode:\n",
    "    def __init__(self, value):\n",
    "        self.next = None\n",
    "        self.val = value"
   ]
  },
  {
   "cell_type": "code",
   "execution_count": 4,
   "metadata": {
    "collapsed": true
   },
   "outputs": [],
   "source": [
    "# linkedlist example\n",
    "def linkedlist_Case(lis):\n",
    "    head = ListNode(lis[0])\n",
    "    pre = head\n",
    "    for i in range(1,len(lis)):\n",
    "        Node = ListNode(lis[i])\n",
    "        pre.next = Node\n",
    "        pre = Node\n",
    "    return head\n",
    "    \n"
   ]
  },
  {
   "cell_type": "code",
   "execution_count": 5,
   "metadata": {
    "collapsed": true
   },
   "outputs": [],
   "source": [
    "'''\n",
    "Queue: 先進先出，A, B, C, D 依序放入，出來順序也是 A, B, C, D。\n",
    "\n",
    "      --------------------\n",
    "entry    D C B A           exit <-- see\n",
    "      --------------------\n",
    "      tail       head\n",
    "\n",
    "'''\n",
    "\n",
    "\n",
    "class Queue:\n",
    "    def __init__(self):\n",
    "        self.head = None\n",
    "        self.tail = None\n",
    "        self.size = 0\n",
    "    def enqueue(self, value): # 裝在尾巴\n",
    "        q = ListNode(value)\n",
    "        if self.size == 0:\n",
    "            self.head = q\n",
    "            self.tail = q\n",
    "        else:\n",
    "            self.tail.next = q\n",
    "            self.tail = q\n",
    "        self.size += 1\n",
    "    def dequeue(self): # remove head\n",
    "        if self.head == None:\n",
    "            return None\n",
    "        else:\n",
    "            removed = self.head\n",
    "            self.head = self.head.next\n",
    "            self.size -= 1\n",
    "            return removed\n",
    "        "
   ]
  },
  {
   "cell_type": "code",
   "execution_count": 6,
   "metadata": {
    "collapsed": true
   },
   "outputs": [],
   "source": [
    "'''\n",
    "Stack: 先進後出, A, B, C, D 依序放入，出來順序也是 D, C, B, A。\n",
    "    \n",
    "    see: head/tail\n",
    "        \n",
    "    |      |\n",
    "    |   D  |\n",
    "    |   C  |\n",
    "    |   B  |\n",
    "    |   A  |\n",
    "    |      |\n",
    "    -------\n",
    "\n",
    "'''\n",
    "\n",
    "\n",
    "\n",
    "class Stack:\n",
    "    def __init__(self):\n",
    "        self.head = None\n",
    "        self.size = 0\n",
    "    def push(self, value):\n",
    "        s = ListNode(value)\n",
    "        if self.head == None:\n",
    "            self.head = s\n",
    "        else:\n",
    "            s.next = self.head\n",
    "            self.head = s\n",
    "        self.size += 1\n",
    "    def pop(self):\n",
    "        if self.head == None:\n",
    "            return None\n",
    "        else:\n",
    "            node = self.head\n",
    "            self.head = self.head.next\n",
    "            self.size -= 1\n",
    "            return node\n",
    "            "
   ]
  },
  {
   "cell_type": "markdown",
   "metadata": {},
   "source": [
    "* Implement Queue, Stack with Python library,"
   ]
  },
  {
   "cell_type": "code",
   "execution_count": 7,
   "metadata": {},
   "outputs": [
    {
     "data": {
      "text/plain": [
       "'\\nQueue in Python library:\\n\\nlist:  [ ----  --- ]\\n      tail         head\\n'"
      ]
     },
     "execution_count": 7,
     "metadata": {},
     "output_type": "execute_result"
    }
   ],
   "source": [
    "'''\n",
    "Queue in Python library:\n",
    "\n",
    "list:  [ ----  --- ]\n",
    "      tail         head\n",
    "'''\n",
    "# class Queue:\n",
    "#     def __init__(self):\n",
    "#         self.items = []\n",
    "        \n",
    "#     def enqueue(self, value):  \n",
    "#         self.items.insert(0, value)\n",
    "        \n",
    "#     def dequeue(self):\n",
    "#         if self.items is None:\n",
    "#             return None\n",
    "#         else:\n",
    "#             return self.items.pop()\n",
    "        \n",
    "#     def size():\n",
    "#         return len(self.items)\n",
    "    \n",
    "# Q = Queue()\n",
    "# Q.enqueue(1)\n",
    "# Q.enqueue(2)\n",
    "# Q.enqueue(8)\n",
    "# Q.enqueue(15)\n",
    "# print(Q.items)\n",
    "# Q.dequeue()\n",
    "# print(Q.items)"
   ]
  },
  {
   "cell_type": "code",
   "execution_count": 8,
   "metadata": {},
   "outputs": [],
   "source": [
    "# class Stack:\n",
    "#     def __init__(self):\n",
    "#         self.items = []\n",
    "        \n",
    "#     def push(self, value):\n",
    "#         self.items.append(value)\n",
    "        \n",
    "#     def pop(self):\n",
    "#         return self.items.pop()\n",
    "    \n",
    "# S = Stack()\n",
    "# S.push(1)\n",
    "# S.push(2)\n",
    "# S.push(5)\n",
    "# S.push(77)\n",
    "# print(S.items)\n",
    "# S.pop()\n",
    "# print(S.items)\n",
    "# S.pop()\n",
    "# print(S.items)"
   ]
  },
  {
   "cell_type": "markdown",
   "metadata": {},
   "source": [
    "* Valid Parenthese: Given a string containing just the characters ')','(','{','}','[' and ']', determine if the input string is valid. The brackets must close in the correct order, determine valid or not."
   ]
  },
  {
   "cell_type": "code",
   "execution_count": 9,
   "metadata": {
    "collapsed": true
   },
   "outputs": [],
   "source": [
    "OPENING_BRACKETS = {\"{\", \"[\", \"(\"}            # set\n",
    "BRACKETS_MAP = {\"]\": \"[\", \"}\": \"{\", \")\": \"(\"} # dic\n",
    "\n",
    "def isValid(s):\n",
    "    stack = []\n",
    "    for bracket in s:\n",
    "        if bracket in OPENING_BRACKETS:\n",
    "            stack.append(bracket)\n",
    "        elif not stack:\n",
    "            return False        # Can't pop from an empty stack\n",
    "        elif stack.pop() != BRACKETS_MAP[bracket]:\n",
    "            return False        # Closing the wrong kind of bracket\n",
    "    return not stack"
   ]
  },
  {
   "cell_type": "markdown",
   "metadata": {},
   "source": [
    "* Reverse Polish notaiton: a*(b+c) -> abc+*"
   ]
  },
  {
   "cell_type": "markdown",
   "metadata": {},
   "source": [
    "## LinkedList Application"
   ]
  },
  {
   "cell_type": "markdown",
   "metadata": {},
   "source": [
    "* merge two sorted lists: Merge two sorted linked lists and return it as a new list. The new list should be made by splicing together the nodes of the first two lists."
   ]
  },
  {
   "cell_type": "code",
   "execution_count": 16,
   "metadata": {},
   "outputs": [],
   "source": [
    "import platform\n",
    "def showLinkedlist(head):\n",
    "    if int(platform.python_version()[0]) ==3:\n",
    "        print(head.val, end= '')\n",
    "        node = head\n",
    "        while (node.next != None):\n",
    "            print('->', node.next.val, end='')\n",
    "            node = node.next\n",
    "#     if int(platform.python_version()[0]) ==2:   \n",
    "#         print head.val,\n",
    "#         node = head\n",
    "#         while node.next != None:\n",
    "#             print '->', node.next.val,\n",
    "#             node = node.next"
   ]
  },
  {
   "cell_type": "code",
   "execution_count": 18,
   "metadata": {},
   "outputs": [
    {
     "name": "stdout",
     "output_type": "stream",
     "text": [
      "1-> 2-> 5\n",
      "\n",
      "2-> 10-> 13\n",
      "\n",
      "1-> 2-> 2-> 5-> 10-> 13"
     ]
    }
   ],
   "source": [
    "# 會當機, 用 pycharm檢查,＝>可以跑\n",
    "def merge_lists(head1, head2):\n",
    "    new_head = ListNode(0)\n",
    "    curr_node = new_head\n",
    "    while head1 != None and head2 != None:\n",
    "        if head1.val <= head2.val:\n",
    "            curr_node.next = head1\n",
    "            head1 = head1.next\n",
    "        else:\n",
    "            curr_node.next = head2\n",
    "            head2 = head2.next\n",
    "        curr_node = curr_node.next\n",
    "\n",
    "    if head1==None:\n",
    "        curr_node.next = head2\n",
    "    if head2 == None:\n",
    "        curr_node.next = head1\n",
    "    return new_head.next\n",
    "h1 = linkedlist_Case([1, 2, 5])\n",
    "h2 = linkedlist_Case([2, 10, 13])\n",
    "showLinkedlist(h1)\n",
    "print('\\n')\n",
    "showLinkedlist(h2)\n",
    "print('\\n')\n",
    "showLinkedlist(merge_lists(h1,h2))"
   ]
  },
  {
   "cell_type": "code",
   "execution_count": 21,
   "metadata": {},
   "outputs": [
    {
     "name": "stdout",
     "output_type": "stream",
     "text": [
      "1-> 2-> 5\n",
      "\n",
      "2-> 10-> 13\n",
      "\n",
      "1-> 2-> 2-> 5-> 10-> 13"
     ]
    }
   ],
   "source": [
    "''' 用pycharm檢查=> 跑過一次就變了 所以不能一直用同樣的case帶入'''\n",
    "# Function to merge two sorted linked list.\n",
    "def mergeLists(head1, head2):\n",
    "    # create a temp node NULL\n",
    "    temp = None\n",
    "    \n",
    "    if head1 is None:\n",
    "        return head2\n",
    "    if head2 is None:\n",
    "        return head1\n",
    "    \n",
    "    if head1.val <= head2.val:\n",
    "        temp = head1\n",
    "        # Again check List1's data is smaller or equal List2's \n",
    "        # data and call mergeLists function.\n",
    "        \n",
    "        temp.next = mergeLists(head1.next, head2)\n",
    "    else: \n",
    "        # If List2's data is greater than or equal List1's \n",
    "        # data assign temp to head2\n",
    "        temp = head2\n",
    " \n",
    "        # Again check List2's data is greater or equal List's\n",
    "        # data and call mergeLists function.\n",
    "        \n",
    "        temp.next = mergeLists(head1, head2.next)\n",
    " \n",
    "    # return the temp list.\n",
    "    return temp  \n",
    "\n",
    "h1 = linkedlist_Case([1, 2, 5])\n",
    "h2 = linkedlist_Case([2, 10, 13])\n",
    "showLinkedlist(h1)\n",
    "print(\"\\n\")\n",
    "showLinkedlist(h2)\n",
    "print(\"\\n\")\n",
    "showLinkedlist(mergeLists(h1,h2))"
   ]
  },
  {
   "cell_type": "markdown",
   "metadata": {},
   "source": [
    "* Reversed linkedlist: https://www.geeksforgeeks.org/reverse-a-linked-list/"
   ]
  },
  {
   "cell_type": "code",
   "execution_count": 2,
   "metadata": {},
   "outputs": [
    {
     "data": {
      "text/html": [
       "<img src='reversed linkedlist while.png', width=600, height=600>\n"
      ],
      "text/plain": [
       "<IPython.core.display.HTML object>"
      ]
     },
     "metadata": {},
     "output_type": "display_data"
    }
   ],
   "source": [
    "%%html\n",
    "<img src='reversed linkedlist while.png', width=600, height=600>"
   ]
  },
  {
   "cell_type": "code",
   "execution_count": 22,
   "metadata": {},
   "outputs": [
    {
     "name": "stdout",
     "output_type": "stream",
     "text": [
      "2-> 10-> 13-> 22\n",
      "\n",
      "reversed:\n",
      "22-> 13-> 10-> 2"
     ]
    }
   ],
   "source": [
    "# while\n",
    "def while_reversed_linkedlist(head):\n",
    "    if not head:\n",
    "        return None\n",
    "    reversed = None\n",
    "    cur = head\n",
    "    todo = head.next\n",
    "    while todo != None:\n",
    "        cur.next = reversed  # 主要執行\n",
    "        \n",
    "        # prepare next loop \n",
    "        reversed = cur       \n",
    "        cur = todo\n",
    "        todo = todo.next\n",
    "    cur.next = reversed \n",
    "    return cur\n",
    "\n",
    "hh = linkedlist_Case([2, 10, 13, 22])\n",
    "showLinkedlist(hh)\n",
    "print('\\n')\n",
    "print('reversed:')\n",
    "showLinkedlist(while_reversed_linkedlist(hh))\n"
   ]
  },
  {
   "cell_type": "code",
   "execution_count": 23,
   "metadata": {},
   "outputs": [
    {
     "name": "stdout",
     "output_type": "stream",
     "text": [
      "2-> 10-> 13-> 22\n",
      "\n",
      "reversed:\n",
      "22-> 13-> 10-> 2"
     ]
    }
   ],
   "source": [
    "# 精簡版\n",
    "def R_LL(head):\n",
    "    cur = head\n",
    "    prev = None\n",
    "    while cur != None:\n",
    "        fur = cur.next\n",
    "        cur.next = prev\n",
    "        \n",
    "        # prepare for next loop\n",
    "        prev= cur\n",
    "        cur = fur\n",
    "    return prev\n",
    "\n",
    "\n",
    "hh = linkedlist_Case([2, 10, 13, 22])\n",
    "showLinkedlist(hh)\n",
    "print('\\n')\n",
    "print('reversed:')\n",
    "showLinkedlist(R_LL(hh))"
   ]
  },
  {
   "cell_type": "markdown",
   "metadata": {},
   "source": [
    "* Using recursion to do the reversed linkedlist"
   ]
  },
  {
   "cell_type": "code",
   "execution_count": 27,
   "metadata": {},
   "outputs": [
    {
     "name": "stdout",
     "output_type": "stream",
     "text": [
      "2-> 10-> 13-> 22\n",
      "\n",
      "22-> 13-> 10-> 2"
     ]
    }
   ],
   "source": [
    "# recursion\n",
    "'''\n",
    "        None  2-> 10 -> 13 -> 22\n",
    "step1:  rev   cur  fur\n",
    "---------------------------------------\n",
    "        None <-2  10 -> 13 -> 22\n",
    "step2:       rev  cur   fur\n",
    "\n",
    "\n",
    "\n",
    "\n",
    "'''\n",
    "def recur_LL(reserved, cur):\n",
    "    if cur == None:\n",
    "        return reserved\n",
    "    \n",
    "    fur = cur.next\n",
    "    cur.next = reserved\n",
    "    \n",
    "    # prepare for next loop\n",
    "    reserved = cur\n",
    "    cur = fur\n",
    "    return recur_LL(reserved, cur)\n",
    "    \n",
    "hh = linkedlist_Case([2, 10, 13, 22])\n",
    "showLinkedlist(hh)\n",
    "print('\\n')\n",
    "showLinkedlist(recur_LL(None,hh))    "
   ]
  },
  {
   "cell_type": "code",
   "execution_count": 35,
   "metadata": {
    "scrolled": false
   },
   "outputs": [
    {
     "name": "stdout",
     "output_type": "stream",
     "text": [
      "1-> 2-> 3-> 4-> 5-> 6\n",
      "\n",
      "6-> 5-> 4-> 3-> 2-> 1"
     ]
    }
   ],
   "source": [
    "'''\n",
    "此法不同於上面，這是先把head，跑到最後一個，然後再返回來的方式。要從最後一個開始回想\n",
    "\n",
    "1->2-> ... 5 -> 6 -> None\n",
    "        head   cur\n",
    "\n",
    "1->2-> ... 5 <- 6    None\n",
    "        head   cur\n",
    "\n",
    "\n",
    "'''\n",
    "\n",
    "\n",
    "def recur_L(head):\n",
    "    if head.next == None or head == None:\n",
    "        new_head = head\n",
    "        return [head, new_head]\n",
    "    [cur, new_head] = recur_L(head.next)\n",
    "    cur.next = head\n",
    "    head.next = None\n",
    "    return [head, new_head]\n",
    "\n",
    "hh = linkedlist_Case([1,2,3,4,5,6])\n",
    "showLinkedlist(hh)\n",
    "print('\\n')\n",
    "[hh, new_head] = recur_L(hh)\n",
    "showLinkedlist(new_head)\n",
    "    \n",
    "    "
   ]
  },
  {
   "cell_type": "code",
   "execution_count": null,
   "metadata": {
    "collapsed": true
   },
   "outputs": [],
   "source": []
  }
 ],
 "metadata": {
  "kernelspec": {
   "display_name": "Python [conda env:py37]",
   "language": "python",
   "name": "conda-env-py37-py"
  },
  "language_info": {
   "codemirror_mode": {
    "name": "ipython",
    "version": 3
   },
   "file_extension": ".py",
   "mimetype": "text/x-python",
   "name": "python",
   "nbconvert_exporter": "python",
   "pygments_lexer": "ipython3",
   "version": "3.7.1"
  }
 },
 "nbformat": 4,
 "nbformat_minor": 2
}
