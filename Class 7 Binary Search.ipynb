{
 "cells": [
  {
   "cell_type": "markdown",
   "metadata": {},
   "source": [
    "上次作業解答：\n",
    "* Homework 1:合併大小寫的頻次:\n",
    "    mydic = {'a':10, 'b': 34, 'A': 7, 'Z':3}\n",
    "   -> mydic = {'a':17, 'b': 34, 'Z':3}\n"
   ]
  },
  {
   "cell_type": "code",
   "execution_count": 1,
   "metadata": {},
   "outputs": [
    {
     "data": {
      "text/plain": [
       "{'a': 17, 'b': 34, 'z': 3}"
      ]
     },
     "execution_count": 1,
     "metadata": {},
     "output_type": "execute_result"
    }
   ],
   "source": [
    "mydic = {'a':10, 'b': 34, 'A': 7, 'Z':3}\n",
    "\n",
    "newdic = {}\n",
    "for key in mydic.keys():\n",
    "        newdic[key.lower()] = mydic.get(key.lower(),0) + mydic.get(key.upper(),0)\n",
    "\n",
    "newdic\n"
   ]
  },
  {
   "cell_type": "code",
   "execution_count": null,
   "metadata": {
    "collapsed": true
   },
   "outputs": [],
   "source": [
    "newdic1 = {k.lower(): mydic.get(k.lower(),0) + mydic.get(k.upper(),0) for k in mydic.keys()}\n",
    "newdic1"
   ]
  },
  {
   "cell_type": "markdown",
   "metadata": {},
   "source": [
    "* Homework 2:Given an array of integers, return indices of the two numbers such that they add up to a specific target. You may assume that each input would have exactly one solution, and you may not use the same element twice."
   ]
  },
  {
   "cell_type": "code",
   "execution_count": null,
   "metadata": {
    "collapsed": true
   },
   "outputs": [],
   "source": [
    "array = range(20)\n",
    "target = 24\n",
    "\n",
    "'''Brute force\n",
    "Note: if use list.remove() will make original list without removed item\n",
    "'''\n",
    "def add_up_bruteF(array, target):\n",
    "    result = []\n",
    "    for i in range(len(array)):\n",
    "        remain = target - array[i]\n",
    "        for ii in range(len(array[:i])):\n",
    "            if array[ii]== remain:\n",
    "                result.append([i, ii])\n",
    "        for ii in range(len(array[i+1:])):\n",
    "            if array[ii] == remain:\n",
    "                result.append([i, ii])\n",
    "    return result\n",
    "\n",
    "print(add_up_bruteF(array, target))\n",
    "        \n",
    "        "
   ]
  },
  {
   "cell_type": "code",
   "execution_count": null,
   "metadata": {
    "collapsed": true
   },
   "outputs": [],
   "source": [
    "'''solution2: TO:O(n), SC:O(n); This one is only for unique solution!!\n",
    "Since we only need to return indices of the two numbers, the values of dictionary are the indices.\n",
    "Storage the remained number and index, once it meet the required value, return it.'''\n",
    "def two_sum(nums, target):\n",
    "    my_dic = {}\n",
    "    for i in range(len(nums)):\n",
    "        if nums[i] in my_dic:\n",
    "            return (my_dic[nums[i]], i)\n",
    "        my_dic[target-nums[i]] = i\n",
    "        \n",
    "array = range(20)\n",
    "target = 27        \n",
    "print(two_sum(array, target))"
   ]
  },
  {
   "cell_type": "code",
   "execution_count": null,
   "metadata": {
    "collapsed": true
   },
   "outputs": [],
   "source": [
    "'''Solution3: time complexity:O(n) + O(nlogn), space complexity:O(1)\n",
    "ascending array only, 這只能用在按照大小順序排列，左右指標一步一步檢查，比目標小，左指標加一，比目標大，右指標減一\n",
    "'''\n",
    "\n",
    "def two_sum(nums, target):\n",
    "    left = 0\n",
    "    right = len(nums)-1\n",
    "    while left < right:\n",
    "        if nums[left] + nums[right] < target:\n",
    "            left += 1\n",
    "        elif nums[left] + nums[right] > target:\n",
    "            right -= 1\n",
    "        else:\n",
    "            return (left, right)\n",
    "\n"
   ]
  },
  {
   "cell_type": "markdown",
   "metadata": {
    "collapsed": true
   },
   "source": [
    "* Homework 3: Given an array of integers and an integer k, you need to find the total number of continuous subarrays whose sum equals to k."
   ]
  },
  {
   "cell_type": "code",
   "execution_count": null,
   "metadata": {
    "collapsed": true
   },
   "outputs": [],
   "source": [
    "'''solution 1: Brute Force O(n^2)'''\n",
    "\n",
    "def sub_sum(array,k):\n",
    "    res = []\n",
    "    for i in range(len(array)):\n",
    "        sum = 0\n",
    "        for j in range(i, len(array)):\n",
    "            sum += array[j]\n",
    "            if sum == k:\n",
    "                 res.append(array[i:j+1])\n",
    "    return res\n",
    "            \n",
    "        \n",
    "array = range(27)\n",
    "target = 27        \n",
    "print(sub_sum(array,target))\n"
   ]
  },
  {
   "cell_type": "code",
   "execution_count": null,
   "metadata": {
    "collapsed": true
   },
   "outputs": [],
   "source": [
    "''' solution 2: time complexity O(n), space complexity O(n)\n",
    "# dictionary.get() returns a vlue for the given key. If key is not available then returns default value None\n",
    "dictionary, key代表sum和, value代表 sum和出現的次數 \n",
    "此法秘訣在於，從第一個到第i個，其中每個的總合都放在字典中，一旦總和減去k (sums-k)，是在字典中，就表示之前有連續subarray總和為k。\n",
    "'''\n",
    "\n",
    "def subarray_sum(nums, k):\n",
    "    ans = sums = 0\n",
    "    my_dic = {}\n",
    "    for num in nums:\n",
    "        if sums not in my_dic:\n",
    "            my_dic[sums] = 0\n",
    "        my_dic[sums] += 1\n",
    "        sums += num\n",
    "        ans += my_dic.get(sums-k, 0)\n",
    "    return ans\n",
    "\n",
    "array = range(27)\n",
    "target = 27\n",
    "print(subarray_sum(array,target))"
   ]
  },
  {
   "cell_type": "markdown",
   "metadata": {},
   "source": [
    "# Binary Search"
   ]
  },
  {
   "cell_type": "markdown",
   "metadata": {},
   "source": [
    "* find target number in a sorted int array. If not found, return None.\n",
    "https://www.geeksforgeeks.org/binary-search/"
   ]
  },
  {
   "cell_type": "code",
   "execution_count": null,
   "metadata": {
    "collapsed": true
   },
   "outputs": [],
   "source": [
    "''' 標準題型，注意 left<=right, 最後return None要放在while外面，而且一定要有right = mid-1 不能只是right = mid，不然頭尾無法找到\n",
    "Time complexity: O(logn)'''\n",
    "def binary_search(array, k):\n",
    "    left = 0\n",
    "    right = len(array)-1\n",
    "    while left <= right:\n",
    "        mid = (left+right)/2\n",
    "        if array[mid] == k:\n",
    "            return mid\n",
    "        if array[mid] > k:\n",
    "            right = mid-1\n",
    "        else:\n",
    "            left = mid+1\n",
    "    return None\n",
    "            \n",
    "array = [2, 3, 4, 5, 6, 7, 9, 10]        \n",
    "k = 4\n",
    "print(binary_search(array,k))\n",
    "\n",
    "''' 注意，left < right的話，上面這個例子無法實現，必須要 left <= right'''"
   ]
  },
  {
   "cell_type": "code",
   "execution_count": null,
   "metadata": {
    "collapsed": true
   },
   "outputs": [],
   "source": [
    "# Python Program for recursive binary search.\n",
    " \n",
    "# Returns index of x in arr if present, else -1\n",
    "def binarySearch (arr, l, r, x):\n",
    " \n",
    "    # Check base case\n",
    "    if r >= l:\n",
    " \n",
    "        mid = l + (r - l)/2\n",
    " \n",
    "        # If element is present at the middle itself\n",
    "        if arr[mid] == x:\n",
    "            return mid\n",
    "         \n",
    "        # If element is smaller than mid, then it \n",
    "        # can only be present in left subarray\n",
    "        elif arr[mid] > x:\n",
    "            return binarySearch(arr, l, mid-1, x)\n",
    " \n",
    "        # Else the element can only be present \n",
    "        # in right subarray\n",
    "        else:\n",
    "            return binarySearch(arr, mid+1, r, x)\n",
    " \n",
    "    else:\n",
    "        # Element is not present in the array\n",
    "        return -1\n",
    " \n",
    "# Test array\n",
    "arr = [ 2, 3, 4, 10, 40 ]\n",
    "x = 10\n",
    " \n",
    "# Function call\n",
    "result = binarySearch(arr, 0, len(arr)-1, x)\n",
    " \n",
    "if result != -1:\n",
    "    print \"Element is present at index %d\" % result\n",
    "else:\n",
    "    print \"Element is not present in array\"\n"
   ]
  },
  {
   "cell_type": "markdown",
   "metadata": {},
   "source": [
    "* Q2: 2D matrix, sorted on each row, first element of next row is larger than the last element of previous row. Now given a target number, return the position of the target number within the matrix.  https://www.geeksforgeeks.org/search-in-row-wise-and-column-wise-sorted-matrix/"
   ]
  },
  {
   "cell_type": "code",
   "execution_count": null,
   "metadata": {
    "collapsed": true
   },
   "outputs": [],
   "source": [
    "# Python3 program to search an element \n",
    "# in row-wise and column-wise sorted matrix\n",
    "\n",
    "# Searches the element x in mat[][]. If the \n",
    "# element is found, then prints its position \n",
    "# and returns true, otherwise prints \"not found\"\n",
    "# and returns false\n",
    "def search(mat, n, x):\n",
    "    i = 0     \n",
    "    j = n - 1\n",
    "    while ( i < n and j >= 0 ):\n",
    "        if (mat[i][j] == x ):\n",
    "            print(\"n Found at \", i, \",\", j)\n",
    "            return 1\n",
    "        if (mat[i][j] > x ):\n",
    "            j -= 1     \n",
    "        # if mat[i][j] < x\n",
    "        else: \n",
    "            i += 1\n",
    "     \n",
    "    print(\"Element not found\")\n",
    "    return 0 # if (i == n || j == -1 )\n",
    "\n",
    "mat= [  [10, 20, 30, 40],\n",
    "        [15, 25, 35, 45],\n",
    "        [27, 29, 37, 48],\n",
    "        [32, 33, 39, 50] ]\n",
    "search(mat, 4, 29)\n",
    " "
   ]
  },
  {
   "cell_type": "markdown",
   "metadata": {},
   "source": [
    "* Q3: Find an element in the array that is closest to the target number"
   ]
  },
  {
   "cell_type": "code",
   "execution_count": null,
   "metadata": {
    "collapsed": true
   },
   "outputs": [],
   "source": [
    "def closed(array, target):\n",
    "    left, right = 0, len(array)-1\n",
    "    while left+1 < right:\n",
    "        mid = (left+right)/2\n",
    "        \n",
    "        if array[mid] == target:\n",
    "            return mid\n",
    "        if array[mid] < target:\n",
    "            left = mid\n",
    "        else:\n",
    "            right = mid\n",
    "    return left if abs(array[left]-target) < abs(array[right]-target) else right\n",
    "''' 注意, left+1 < right, 不是<=, 不然會陷入無限循環'''\n",
    "print closed([1, 2, 5, 9], 3)\n",
    "    \n"
   ]
  },
  {
   "cell_type": "markdown",
   "metadata": {
    "collapsed": true
   },
   "source": [
    "* Q4: Find the index of the first occurrence of an element. Example, nums = [1, 2, 3, 3, 5], target =3, return 2"
   ]
  },
  {
   "cell_type": "code",
   "execution_count": null,
   "metadata": {
    "collapsed": true
   },
   "outputs": [],
   "source": [
    "def first_occurrence(array, target):\n",
    "    left, right = 0, len(array)-1\n",
    "    mid = (left+right)/2\n",
    "    while left + 1 < right:\n",
    "        \n",
    "        if array[mid] == target:\n",
    "            if array[mid-1] < target or mid == 0:\n",
    "                return mid\n",
    "            mid -= 1\n",
    "        else:\n",
    "            mid = (left+right)/2\n",
    "        \n",
    "        if array[mid] < target:\n",
    "            left = mid\n",
    "        else:\n",
    "            right = mid\n",
    "    if array[left] == target:\n",
    "        return left\n",
    "    if array[right] == target:\n",
    "        return right\n",
    "    return mid if array[mid]==target else None\n",
    "\n",
    "print first_occurrence([1, 2, 3, 3, 5], 3)\n",
    "print first_occurrence([1, 2, 3, 3,3,  5], 3)\n",
    "print first_occurrence([1, 2, 3, 3, 5], 2)\n",
    "print first_occurrence([1, 2, 3, 3, 5], 1)   \n",
    "print first_occurrence([1, 2, 3, 3, 5], 5)   "
   ]
  },
  {
   "cell_type": "markdown",
   "metadata": {},
   "source": [
    "* Q5: Find the index of the last occurrence of an element."
   ]
  },
  {
   "cell_type": "code",
   "execution_count": null,
   "metadata": {
    "collapsed": true
   },
   "outputs": [],
   "source": [
    "def last_occurrence(array, target):\n",
    "    left, right = 0, len(array)-1\n",
    "    mid = (left+right)/2\n",
    "    while left + 1 < right:\n",
    "        if array[mid] == target:\n",
    "            if array[mid+1] > target or mid == len(array)-1:\n",
    "                return mid\n",
    "            mid += 1\n",
    "        else:\n",
    "            mid = (left+right)/2\n",
    "            \n",
    "        if array[mid] < target:\n",
    "            left = mid\n",
    "        else:\n",
    "            right = mid\n",
    "    \n",
    "    if array[right] == target:\n",
    "        return right\n",
    "    if array[left] == target:\n",
    "        return left\n",
    "    return None\n",
    "            \n",
    "print last_occurrence([1, 2, 3, 3, 5], 3)\n",
    "print last_occurrence([1, 2, 3, 3,3,  5], 3)\n",
    "print last_occurrence([1, 2, 3, 3, 5], 2)\n",
    "print last_occurrence([1, 2, 3, 3, 5], 1)   \n",
    "print last_occurrence([1, 2, 3, 3, 5], 5)            \n",
    "            "
   ]
  },
  {
   "cell_type": "markdown",
   "metadata": {},
   "source": [
    "* Q6: Find Peak Element (A peak element is an element that is greater than its two neighbors.)"
   ]
  },
  {
   "cell_type": "code",
   "execution_count": null,
   "metadata": {
    "collapsed": true
   },
   "outputs": [],
   "source": [
    "def find_peak(array):\n",
    "    left, right = 0, len(array)-1\n",
    "    while left + 1 < right:\n",
    "        mid = (left+right)//2\n",
    "        if array[mid]> array[mid+1] and array[mid]> array[mid-1]:\n",
    "            return mid\n",
    "        if array[mid] < array[mid+1]:\n",
    "            left = mid+1\n",
    "        else:\n",
    "            right = mid-1\n",
    "    return left if array[left] >= array[right] else right\n",
    "            "
   ]
  },
  {
   "cell_type": "markdown",
   "metadata": {},
   "source": [
    "* Q7: Search in Rotated sorted array. You may assume no duplicate exists in the array."
   ]
  },
  {
   "cell_type": "code",
   "execution_count": 13,
   "metadata": {},
   "outputs": [
    {
     "name": "stdout",
     "output_type": "stream",
     "text": [
      "6\n",
      "2\n"
     ]
    }
   ],
   "source": [
    "''' 先考慮=>在不在同區=> '''\n",
    "\n",
    "def rotated_sorted_array(array, target):\n",
    "    left, right = 0, len(array)-1\n",
    "    while left + 1 < right:\n",
    "        mid = (left+right)//2\n",
    "        if target == array[mid]:\n",
    "            return mid\n",
    "        if array[left] < array[right]: # left, right in the same zone\n",
    "            if array[mid] < target:\n",
    "                left = mid\n",
    "            else:\n",
    "                right = mid\n",
    "            \n",
    "        else:                         # left, right are not in the same zone\n",
    "            \n",
    "            if target == array[mid]:\n",
    "                return mid\n",
    "            \n",
    "            if array[mid] > array[left]: # mid in the zone I\n",
    "                if target > array[mid]:\n",
    "                    left = mid\n",
    "                elif target <= array[right]:\n",
    "                    left = mid\n",
    "                elif target < array[mid] and target >= array[left]:\n",
    "                    right = mid\n",
    "                else: \n",
    "                    print('Wrong')\n",
    "                    \n",
    "            else:                        # mid in the zone II\n",
    "                if target > array[mid] and target <= array[right]:\n",
    "                    left = mid\n",
    "                elif target < array[mid]:\n",
    "                    right = mid\n",
    "                elif target >= array[left]:\n",
    "                    right = mid\n",
    "                else:\n",
    "                    print('Wrong')\n",
    "    if array[left] == target:\n",
    "        return left\n",
    "    if array[right] == target:\n",
    "        return right\n",
    "    return -1\n",
    "\n",
    "\n",
    "#index   0  1  2  3  4  5  6\n",
    "array = [4, 5, 6, 7, 0, 1, 2]\n",
    "print(rotated_sorted_array(array, 2))\n",
    "\n",
    "array = [4, 5, 6, 0, 1, 2, 3]\n",
    "print(rotated_sorted_array(array, 6))"
   ]
  },
  {
   "cell_type": "markdown",
   "metadata": {
    "collapsed": true
   },
   "source": [
    "[HomeWork]: You are a product manager and currently leading a team to develop a new product. Unfortunately, the lastest version of your product fails the quality check. Since each version is developed based on the previous version, all the versions after a bad version are also bad. \n",
    "\n",
    "Suppose you have n version [1, 2, ..., n] and you want to find out the first bad one, which causes all the following ones to be bad. You are given an API bool isBadVersion(version) which will return whether version is bad. Implement a function to find the first bad bersion. you should minimize the number of calls to the API.\n"
   ]
  },
  {
   "cell_type": "code",
   "execution_count": 18,
   "metadata": {},
   "outputs": [
    {
     "data": {
      "text/plain": [
       "90"
      ]
     },
     "execution_count": 18,
     "metadata": {},
     "output_type": "execute_result"
    }
   ],
   "source": [
    "''' 解題要訣, ggggggbbbbbbbbbbbbbbbbbb'''\n",
    "\n",
    "def isBadVersion(num):\n",
    "    ''' x is the first bad version'''\n",
    "    x = 90\n",
    "    if num < x:\n",
    "        return False\n",
    "    if num >= x:\n",
    "        return True\n",
    "\n",
    "def firstBadVersion(n):\n",
    "    left, right = 1, n\n",
    "    while left +1 < right:\n",
    "        mid = (left + right)//2\n",
    "        if isBadVersion(mid):\n",
    "            right = mid\n",
    "        else:\n",
    "            left = mid+1\n",
    "    if isBadVersion(left):\n",
    "        return left\n",
    "    return right\n",
    "            \n",
    "firstBadVersion(200)"
   ]
  },
  {
   "cell_type": "code",
   "execution_count": null,
   "metadata": {
    "collapsed": true
   },
   "outputs": [],
   "source": []
  }
 ],
 "metadata": {
  "kernelspec": {
   "display_name": "Python [conda env:py37]",
   "language": "python",
   "name": "conda-env-py37-py"
  },
  "language_info": {
   "codemirror_mode": {
    "name": "ipython",
    "version": 3
   },
   "file_extension": ".py",
   "mimetype": "text/x-python",
   "name": "python",
   "nbconvert_exporter": "python",
   "pygments_lexer": "ipython3",
   "version": "3.7.1"
  }
 },
 "nbformat": 4,
 "nbformat_minor": 2
}
